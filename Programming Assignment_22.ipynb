{
 "cells": [
  {
   "cell_type": "code",
   "execution_count": 1,
   "metadata": {},
   "outputs": [
    {
     "data": {
      "text/plain": [
       "[2, 4, 6, 8, 10, 12, 14, 16, 18, 20, 22]"
      ]
     },
     "execution_count": 1,
     "metadata": {},
     "output_type": "execute_result"
    }
   ],
   "source": [
    "#Answer1\n",
    "\n",
    "def divisible_range(x,y,n):\n",
    "    result=[]\n",
    "    for num in range(x,y+1): #+1 is added to include y\n",
    "        if num % n == 0:\n",
    "            result.append(num)\n",
    "    return result\n",
    "\n",
    "divisible_range(1,23,2)"
   ]
  },
  {
   "cell_type": "code",
   "execution_count": 2,
   "metadata": {},
   "outputs": [
    {
     "name": "stdout",
     "output_type": "stream",
     "text": [
      "True\n"
     ]
    }
   ],
   "source": [
    "#Answer2\n",
    "\n",
    "def simon_says(lst1, lst2):\n",
    "    return lst1[:-1]==lst2[1:]\n",
    "\n",
    "print(simon_says([1, 2, 3, 4, 5], [0, 1, 2, 3, 4]))"
   ]
  },
  {
   "cell_type": "code",
   "execution_count": 8,
   "metadata": {},
   "outputs": [
    {
     "name": "stdout",
     "output_type": "stream",
     "text": [
      "AMS\n"
     ]
    }
   ],
   "source": [
    "#Answer3\n",
    "\n",
    "def society_name(names):\n",
    "    first_letters = []\n",
    "    for name in names:\n",
    "        first_letters.append(name[0])\n",
    "    society_name = ''.join(sorted(first_letters))\n",
    "    return society_name\n",
    "print(society_name([\"Adam\", \"Sarah\", \"Malcolm\"]))"
   ]
  },
  {
   "cell_type": "code",
   "execution_count": 9,
   "metadata": {},
   "outputs": [
    {
     "name": "stdout",
     "output_type": "stream",
     "text": [
      "True\n"
     ]
    }
   ],
   "source": [
    "#Answer4\n",
    "def is_isogram(string):\n",
    "    string = string.lower()\n",
    "    return len(string) == len(set(string))\n",
    "print(is_isogram(\"Algorism\"))  "
   ]
  },
  {
   "cell_type": "code",
   "execution_count": 16,
   "metadata": {},
   "outputs": [
    {
     "data": {
      "text/plain": [
       "False"
      ]
     },
     "execution_count": 16,
     "metadata": {},
     "output_type": "execute_result"
    }
   ],
   "source": [
    "#Answer5\n",
    "def is_in_order(string):\n",
    "    return string == ''.join(sorted(string))\n",
    "\n",
    "is_in_order(\"edabit\")"
   ]
  },
  {
   "cell_type": "code",
   "execution_count": null,
   "metadata": {},
   "outputs": [],
   "source": []
  }
 ],
 "metadata": {
  "kernelspec": {
   "display_name": "Python 3",
   "language": "python",
   "name": "python3"
  },
  "language_info": {
   "codemirror_mode": {
    "name": "ipython",
    "version": 3
   },
   "file_extension": ".py",
   "mimetype": "text/x-python",
   "name": "python",
   "nbconvert_exporter": "python",
   "pygments_lexer": "ipython3",
   "version": "3.8.2"
  },
  "orig_nbformat": 4
 },
 "nbformat": 4,
 "nbformat_minor": 2
}
