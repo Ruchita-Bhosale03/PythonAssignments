{
 "cells": [
  {
   "attachments": {},
   "cell_type": "markdown",
   "metadata": {},
   "source": [
    "Answer1-->"
   ]
  },
  {
   "cell_type": "code",
   "execution_count": 1,
   "metadata": {},
   "outputs": [
    {
     "name": "stdout",
     "output_type": "stream",
     "text": [
      "The current date has been written to the file 'today.txt'.\n"
     ]
    }
   ],
   "source": [
    "from datetime import date\n",
    "\n",
    "# Get the current date\n",
    "current_date = date.today()\n",
    "\n",
    "# Convert the date to a string\n",
    "date_string = str(current_date)\n",
    "\n",
    "# Write the date to the file\n",
    "with open('today.txt', 'w') as file:\n",
    "    file.write(date_string)\n",
    "\n",
    "print(f\"The current date has been written to the file 'today.txt'.\")\n"
   ]
  },
  {
   "attachments": {},
   "cell_type": "markdown",
   "metadata": {},
   "source": [
    "Answer2-->"
   ]
  },
  {
   "cell_type": "code",
   "execution_count": 2,
   "metadata": {},
   "outputs": [
    {
     "name": "stdout",
     "output_type": "stream",
     "text": [
      "2023-06-27\n"
     ]
    }
   ],
   "source": [
    "with open('today.txt', 'r') as file:\n",
    "    today_string = file.read()\n",
    "\n",
    "print(today_string)\n"
   ]
  },
  {
   "attachments": {},
   "cell_type": "markdown",
   "metadata": {},
   "source": [
    "Answer3-->"
   ]
  },
  {
   "cell_type": "code",
   "execution_count": 3,
   "metadata": {},
   "outputs": [
    {
     "name": "stdout",
     "output_type": "stream",
     "text": [
      "2023-06-27\n"
     ]
    }
   ],
   "source": [
    "from datetime import datetime\n",
    "\n",
    "date_format = \"%Y-%m-%d\"\n",
    "parsed_date = datetime.strptime(today_string, date_format).date()\n",
    "\n",
    "print(parsed_date)\n"
   ]
  },
  {
   "attachments": {},
   "cell_type": "markdown",
   "metadata": {},
   "source": [
    "Answer4-->"
   ]
  },
  {
   "cell_type": "code",
   "execution_count": 4,
   "metadata": {},
   "outputs": [
    {
     "name": "stdout",
     "output_type": "stream",
     "text": [
      "AssignmentNo1.ipynb\n",
      "AssignmentNo10.ipynb\n",
      "AssignmentNo12.ipynb\n",
      "AssignmentNo13.ipynb\n",
      "AssignmentNo14.ipynb\n",
      "AssignmentNo15.ipynb\n",
      "AssignmentNo16.ipynb\n",
      "AssignmentNo17.ipynb\n",
      "AssignmentNo18.ipynb\n",
      "AssignmentNo19.ipynb\n",
      "AssignmentNo2.ipynb\n",
      "AssignmentNo20.ipynb\n",
      "AssignmentNo21.ipynb\n",
      "AssignmentNo3.ipynb\n",
      "Assignmentno4.ipynb\n",
      "AssignmentNo5.ipynb\n",
      "AssignmentNo6.ipynb\n",
      "AssignmentNo7.ipynb\n",
      "AssignmentNo8.ipynb\n",
      "AssignmentNo9.ipynb\n",
      "AssingmentNo11.ipynb\n",
      "books.csv\n",
      "books.db\n",
      "new_document.docx\n",
      "test.txt\n",
      "today.txt\n",
      "zoo.py\n",
      "__pycache__\n"
     ]
    }
   ],
   "source": [
    "import os\n",
    "\n",
    "current_directory = os.getcwd()\n",
    "\n",
    "files = os.listdir(current_directory)\n",
    "\n",
    "for file in files:\n",
    "    print(file)\n"
   ]
  },
  {
   "attachments": {},
   "cell_type": "markdown",
   "metadata": {},
   "source": [
    "Answer5-->"
   ]
  },
  {
   "cell_type": "code",
   "execution_count": 5,
   "metadata": {},
   "outputs": [
    {
     "name": "stdout",
     "output_type": "stream",
     "text": [
      "$RECYCLE.BIN\n",
      "Assignment_Ruchita_Bhosale\n",
      "diamondpricepred\n",
      "Downloads\n",
      "fofo\n",
      "Giri\n",
      "Python_Assignments\n",
      "sources\n",
      "System Volume Information\n"
     ]
    }
   ],
   "source": [
    "import os\n",
    "\n",
    "parent_directory = os.path.dirname(os.getcwd())\n",
    "\n",
    "files = os.listdir(parent_directory)\n",
    "\n",
    "for file in files:\n",
    "    print(file)\n"
   ]
  },
  {
   "attachments": {},
   "cell_type": "markdown",
   "metadata": {},
   "source": [
    "Answer6-->"
   ]
  },
  {
   "cell_type": "code",
   "execution_count": 6,
   "metadata": {},
   "outputs": [],
   "source": [
    "import multiprocessing\n",
    "import random\n",
    "import time\n",
    "from datetime import datetime\n",
    "\n",
    "# Function to be executed by each process\n",
    "def wait_and_print():\n",
    "    # Generate a random wait time between 1 and 5 seconds\n",
    "    wait_time = random.randint(1, 5)\n",
    "    \n",
    "    # Wait for the specified time\n",
    "    time.sleep(wait_time)\n",
    "    \n",
    "    # Get the current time\n",
    "    current_time = datetime.now().strftime(\"%H:%M:%S\")\n",
    "    \n",
    "    # Print the current time\n",
    "    print(f\"Current time: {current_time}\")\n",
    "    \n",
    "    # Exit the process\n",
    "    multiprocessing.current_process().exit()\n",
    "\n",
    "# Create three separate processes\n",
    "process1 = multiprocessing.Process(target=wait_and_print)\n",
    "process2 = multiprocessing.Process(target=wait_and_print)\n",
    "process3 = multiprocessing.Process(target=wait_and_print)\n",
    "\n",
    "# Start the processes\n",
    "process1.start()\n",
    "process2.start()\n",
    "process3.start()\n",
    "\n",
    "# Wait for all processes to finish\n",
    "process1.join()\n",
    "process2.join()\n",
    "process3.join()\n"
   ]
  },
  {
   "attachments": {},
   "cell_type": "markdown",
   "metadata": {},
   "source": [
    "Answer7-->"
   ]
  },
  {
   "cell_type": "code",
   "execution_count": 7,
   "metadata": {},
   "outputs": [
    {
     "name": "stdout",
     "output_type": "stream",
     "text": [
      "2000-05-15\n"
     ]
    }
   ],
   "source": [
    "from datetime import date\n",
    "\n",
    "year = 2000\n",
    "month = 5\n",
    "day = 15\n",
    "\n",
    "birth_date = date(year, month, day)\n",
    "\n",
    "print(birth_date)\n"
   ]
  },
  {
   "attachments": {},
   "cell_type": "markdown",
   "metadata": {},
   "source": [
    "Answer8-->"
   ]
  },
  {
   "cell_type": "code",
   "execution_count": 8,
   "metadata": {},
   "outputs": [
    {
     "name": "stdout",
     "output_type": "stream",
     "text": [
      "Day of the week: Monday\n"
     ]
    }
   ],
   "source": [
    "from datetime import date\n",
    "\n",
    "year = 2000\n",
    "month = 5\n",
    "day = 15\n",
    "\n",
    "date_obj = date(year, month, day)\n",
    "\n",
    "day_of_week = date_obj.weekday()\n",
    "\n",
    "weekday_names = ['Monday', 'Tuesday', 'Wednesday', 'Thursday', 'Friday', 'Saturday', 'Sunday']\n",
    "\n",
    "print(\"Day of the week:\", weekday_names[day_of_week])\n"
   ]
  },
  {
   "attachments": {},
   "cell_type": "markdown",
   "metadata": {},
   "source": [
    "Answer9-->"
   ]
  },
  {
   "cell_type": "code",
   "execution_count": 9,
   "metadata": {},
   "outputs": [
    {
     "name": "stdout",
     "output_type": "stream",
     "text": [
      "Future date: 2050-11-12\n"
     ]
    }
   ],
   "source": [
    "from datetime import datetime, timedelta\n",
    "\n",
    "current_date = datetime.now().date()\n",
    "\n",
    "future_date = current_date + timedelta(days=10000)\n",
    "\n",
    "print(\"Future date:\", future_date)\n"
   ]
  }
 ],
 "metadata": {
  "kernelspec": {
   "display_name": "base",
   "language": "python",
   "name": "python3"
  },
  "language_info": {
   "codemirror_mode": {
    "name": "ipython",
    "version": 3
   },
   "file_extension": ".py",
   "mimetype": "text/x-python",
   "name": "python",
   "nbconvert_exporter": "python",
   "pygments_lexer": "ipython3",
   "version": "3.10.9"
  },
  "orig_nbformat": 4
 },
 "nbformat": 4,
 "nbformat_minor": 2
}
