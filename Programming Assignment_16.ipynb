{
 "cells": [
  {
   "cell_type": "code",
   "execution_count": 1,
   "metadata": {},
   "outputs": [
    {
     "name": "stdout",
     "output_type": "stream",
     "text": [
      "in... in... incredible?\n",
      "en... en... enthusiastic?\n",
      "ou... ou... outstanding?\n"
     ]
    }
   ],
   "source": [
    "#Answer1\n",
    "\n",
    "def stutter(word):\n",
    "    stuttered_word = word[:2] + \"... \" + word[:2] + \"... \" + word + \"?\"\n",
    "    return stuttered_word\n",
    "\n",
    "# Examples\n",
    "print(stutter(\"incredible\"))      \n",
    "print(stutter(\"enthusiastic\"))    \n",
    "print(stutter(\"outstanding\"))     \n"
   ]
  },
  {
   "cell_type": "code",
   "execution_count": 5,
   "metadata": {},
   "outputs": [
    {
     "name": "stdout",
     "output_type": "stream",
     "text": [
      "57.3\n",
      "1145.9\n",
      "2864.8\n"
     ]
    }
   ],
   "source": [
    "#Answer2\n",
    "import math\n",
    "\n",
    "def radians_to_degrees(radians):\n",
    "    degrees = math.degrees(radians)\n",
    "    rounded_degrees = round(degrees, 1)\n",
    "    return rounded_degrees\n",
    "\n",
    "# Examples\n",
    "print(radians_to_degrees(1))    \n",
    "print(radians_to_degrees(20))   \n",
    "print(radians_to_degrees(50))   \n"
   ]
  },
  {
   "cell_type": "code",
   "execution_count": null,
   "metadata": {},
   "outputs": [],
   "source": [
    "#Answer3\n",
    "def is_curzon(num):\n",
    "    numerator = 2 ** num + 1\n",
    "    denominator = 2 * num + 1\n",
    "\n",
    "    return numerator % denominator == 0\n",
    "\n",
    "# Examples\n",
    "print(is_curzon(5))    \n",
    "print(is_curzon(10))   \n",
    "print(is_curzon(14))   \n",
    "\n"
   ]
  },
  {
   "cell_type": "code",
   "execution_count": 2,
   "metadata": {},
   "outputs": [
    {
     "name": "stdout",
     "output_type": "stream",
     "text": [
      "64.9519052838329\n"
     ]
    }
   ],
   "source": [
    "#Answer4\n",
    "import math\n",
    "\n",
    "def calculate_hexagon_area(x):\n",
    "    area = (3 * math.sqrt(3) * x ** 2) / 2\n",
    "    return area\n",
    "\n",
    "# Example\n",
    "side_length = 5\n",
    "area = calculate_hexagon_area(side_length)\n",
    "print(area)\n"
   ]
  },
  {
   "cell_type": "code",
   "execution_count": 3,
   "metadata": {},
   "outputs": [
    {
     "name": "stdout",
     "output_type": "stream",
     "text": [
      "101010\n"
     ]
    }
   ],
   "source": [
    "#Answer5\n",
    "def decimal_to_binary(decimal):\n",
    "    binary = \"\"\n",
    "    while decimal > 0:\n",
    "        binary = str(decimal % 2) + binary\n",
    "        decimal = decimal // 2\n",
    "    return binary\n",
    "\n",
    "decimal_number = 42\n",
    "binary_representation = decimal_to_binary(decimal_number)\n",
    "print(binary_representation)\n"
   ]
  },
  {
   "cell_type": "code",
   "execution_count": null,
   "metadata": {},
   "outputs": [],
   "source": []
  }
 ],
 "metadata": {
  "kernelspec": {
   "display_name": "Python 3",
   "language": "python",
   "name": "python3"
  },
  "language_info": {
   "codemirror_mode": {
    "name": "ipython",
    "version": 3
   },
   "file_extension": ".py",
   "mimetype": "text/x-python",
   "name": "python",
   "nbconvert_exporter": "python",
   "pygments_lexer": "ipython3",
   "version": "3.8.2"
  },
  "orig_nbformat": 4
 },
 "nbformat": 4,
 "nbformat_minor": 2
}
