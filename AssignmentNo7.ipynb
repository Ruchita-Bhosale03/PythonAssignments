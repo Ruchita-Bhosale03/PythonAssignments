{
 "cells": [
  {
   "attachments": {},
   "cell_type": "markdown",
   "metadata": {},
   "source": [
    "Answer1-->\n",
    "The feature responsible for generating Regex objects is commonly referred to as the \"regular expression compiler\" or \"regex compiler.\" It is a component of programming languages or libraries that interpret and compile regular expressions into an internal representation for efficient pattern matching. The specific method or function used to create a Regex object may vary depending on the programming language or library you are using."
   ]
  },
  {
   "attachments": {},
   "cell_type": "markdown",
   "metadata": {},
   "source": [
    "Answer2-->\n",
    "Raw strings are commonly used in Regex objects to avoid conflicts with escape sequences. In many programming languages, escape sequences are used to represent special characters or sequences of characters. For example, the backslash () is often used to escape characters like quotes or newlines.\n",
    "\n",
    "\n"
   ]
  },
  {
   "attachments": {},
   "cell_type": "markdown",
   "metadata": {},
   "source": [
    "Answer3-->\n",
    "The search() method in regular expressions typically returns a match object or None if no match is found."
   ]
  },
  {
   "attachments": {},
   "cell_type": "markdown",
   "metadata": {},
   "source": [
    "Answer4-->\n",
    "When you call group() without passing any arguments, it returns the entire substring that matched the pattern. If your regular expression has capturing groups, you can pass an argument to group() to specify which captured group you want to retrieve."
   ]
  },
  {
   "cell_type": "code",
   "execution_count": 1,
   "metadata": {},
   "outputs": [
    {
     "name": "stdout",
     "output_type": "stream",
     "text": [
      "Full match: Hello\n",
      "Captured group: Hello\n"
     ]
    }
   ],
   "source": [
    "import re\n",
    "\n",
    "pattern = r'\\b(\\w+)\\b'  # Match individual words\n",
    "text = \"Hello, world! This is a sample text.\"\n",
    "\n",
    "match = re.search(pattern, text)\n",
    "if match:\n",
    "    # Get the entire match\n",
    "    full_match = match.group()\n",
    "    print(\"Full match:\", full_match)\n",
    "\n",
    "    # Get the first captured group\n",
    "    captured_group = match.group(1)\n",
    "    print(\"Captured group:\", captured_group)\n"
   ]
  },
  {
   "attachments": {},
   "cell_type": "markdown",
   "metadata": {},
   "source": [
    "Answer5-->\n",
    "Group zero (group(0)) covers the entire match, including all the characters matched by the regular expression.\n",
    "\n",
    "Group 1 (group(1)) covers the first set of three digits (\\d\\d\\d) captured by the first parentheses. It captures three consecutive digits.\n",
    "\n",
    "Group 2 (group(2)) covers the second set of three digits followed by a hyphen, followed by four digits (\\d\\d\\d-\\d\\d\\d\\d) captured by the second parentheses. It captures three digits, then a hyphen, and finally four digits."
   ]
  },
  {
   "cell_type": "code",
   "execution_count": 2,
   "metadata": {},
   "outputs": [
    {
     "name": "stdout",
     "output_type": "stream",
     "text": [
      "Full match: 123-456-7890\n",
      "Group 1: 123\n",
      "Group 2: 456-7890\n"
     ]
    }
   ],
   "source": [
    "import re\n",
    "\n",
    "pattern = r'(\\d\\d\\d)-(\\d\\d\\d-\\d\\d\\d\\d)'\n",
    "text = \"123-456-7890\"\n",
    "\n",
    "match = re.search(pattern, text)\n",
    "if match:\n",
    "    print(\"Full match:\", match.group(0))\n",
    "    print(\"Group 1:\", match.group(1))\n",
    "    print(\"Group 2:\", match.group(2))\n"
   ]
  },
  {
   "attachments": {},
   "cell_type": "markdown",
   "metadata": {},
   "source": [
    "Answer6-->\n",
    "To match literal parentheses and periods in a regular expression pattern, you need to escape them using a backslash \\. In standard regular expression syntax, certain characters have special meanings, such as parentheses ( and ), and periods .. To treat them as literal characters rather than special metacharacters, you need to precede them with a backslash \\."
   ]
  },
  {
   "attachments": {},
   "cell_type": "markdown",
   "metadata": {},
   "source": [
    "Answer7-->\n",
    "The findall() method in regular expressions returns either a list of strings or a list of string tuples based on the presence of capturing groups in the regular expression pattern.\n",
    "When the pattern in findall() does not contain any capturing groups, it returns a list of strings. \n"
   ]
  },
  {
   "cell_type": "code",
   "execution_count": 3,
   "metadata": {},
   "outputs": [
    {
     "name": "stdout",
     "output_type": "stream",
     "text": [
      "['123', '456', '789']\n"
     ]
    }
   ],
   "source": [
    "import re\n",
    "\n",
    "pattern = r'\\d+'\n",
    "text = \"123 456 789\"\n",
    "\n",
    "matches = re.findall(pattern, text)\n",
    "print(matches)"
   ]
  },
  {
   "attachments": {},
   "cell_type": "markdown",
   "metadata": {},
   "source": [
    "Answer8-->\n",
    "In standard regular expressions, the vertical bar or pipe character | is used as the \"OR\" operator. It allows you to specify multiple alternative patterns, and if any of those patterns match, the overall pattern is considered a match."
   ]
  },
  {
   "attachments": {},
   "cell_type": "markdown",
   "metadata": {},
   "source": [
    "Answer9-->\n",
    "\n",
    "In regular expressions, the . (dot) character is a metacharacter that represents any character except a newline. It is often referred to as the \"dot\" or \"period\" character"
   ]
  },
  {
   "attachments": {},
   "cell_type": "markdown",
   "metadata": {},
   "source": [
    "Answer10-->\n",
    "In regular expressions, the + and * characters are quantifiers used to specify the repetition of the preceding element or group. \n",
    "+ (Plus Quantifier): The + quantifier matches one or more occurrences of the preceding element.\n",
    "* (Asterisk Quantifier): The * quantifier matches zero or more occurrences of the preceding element.\n"
   ]
  },
  {
   "attachments": {},
   "cell_type": "markdown",
   "metadata": {},
   "source": [
    "Answer11-->\n",
    "{4}: The {4} quantifier matches exactly four occurrences of the preceding element.\n",
    "{4,5}: The {4,5} quantifier matches between four and five occurrences of the preceding element."
   ]
  },
  {
   "attachments": {},
   "cell_type": "markdown",
   "metadata": {},
   "source": [
    "Answer12-->\n",
    "\\d: The \\d shorthand character class represents any digit character.\n",
    "\\w: The \\w shorthand character class represents any word character, which includes alphanumeric characters (letters and digits) and underscores.\n",
    "\\s: The \\s shorthand character class represents any whitespace character, such as spaces, tabs, or newlines."
   ]
  },
  {
   "attachments": {},
   "cell_type": "markdown",
   "metadata": {},
   "source": [
    "Answer13-->\n",
    "\\D: The \\D shorthand character class represents any non-digit character.\n",
    "\\W: The \\W shorthand character class represents any non-word character.\n",
    "\\S: The \\S shorthand character class represents any non-whitespace character."
   ]
  },
  {
   "attachments": {},
   "cell_type": "markdown",
   "metadata": {},
   "source": [
    "Answer14-->\n",
    ".*? (Non-greedy or lazy match): The .*? pattern matches as few characters as possible, making the match \"non-greedy\" or \"lazy.\"\n",
    ".* (Greedy match): The .* pattern matches as many characters as possible, making the match \"greedy.\"\n"
   ]
  },
  {
   "attachments": {},
   "cell_type": "markdown",
   "metadata": {},
   "source": [
    "Answer15-->\n",
    "[0-9] matches any digit character from 0 to 9, and [a-z] matches any lowercase letter from a to z. By combining them within a character class [0-9a-z], you can match both numbers and lowercase letters"
   ]
  },
  {
   "attachments": {},
   "cell_type": "markdown",
   "metadata": {},
   "source": [
    "Answer16-->\n",
    "To make a regular expression case insensitive in regex, you can use the re.IGNORECASE or re.I flag in Python's re module. This flag allows the regular expression pattern to match characters regardless of their case."
   ]
  },
  {
   "attachments": {},
   "cell_type": "markdown",
   "metadata": {},
   "source": [
    "Answer17-->\n",
    "In regular expressions, the . (dot) character normally matches any character except for a newline (\\n). However, if the re.DOTALL flag is passed as the second argument in the re.compile() function, the dot will match any character, including a newline."
   ]
  },
  {
   "attachments": {},
   "cell_type": "markdown",
   "metadata": {},
   "source": [
    "Answer18-->If numReg = re.compile(r'\\d+'), and we call numRegex.sub('X', '11 drummers, 10 pipers, five rings, 4 hens'), it will return the string with all the numeric digits replaced by 'X'. Here's the result:\n",
    "\n",
    "Input: '11 drummers, 10 pipers, five rings, 4 hens'\n",
    "\n",
    "Output: 'X drummers, X pipers, five rings, X hens'"
   ]
  },
  {
   "attachments": {},
   "cell_type": "markdown",
   "metadata": {},
   "source": [
    "Answer19-->\n",
    "Passing re.VERBOSE as the second argument to re.compile() in regular expressions allows you to write more readable and well-structured patterns by ignoring whitespace and adding comments."
   ]
  },
  {
   "attachments": {},
   "cell_type": "markdown",
   "metadata": {},
   "source": [
    "Answer20-->"
   ]
  },
  {
   "cell_type": "code",
   "execution_count": 4,
   "metadata": {},
   "outputs": [
    {
     "name": "stdout",
     "output_type": "stream",
     "text": [
      "Match found: 42\n",
      "Match found: 1,234\n",
      "Match found: 6,368,745\n",
      "No match: 12,34,567\n",
      "No match: 1234\n"
     ]
    }
   ],
   "source": [
    "import re\n",
    "\n",
    "pattern = r'^\\d{1,3}(,\\d{3})*$'\n",
    "\n",
    "numbers = ['42', '1,234', '6,368,745', '12,34,567', '1234']\n",
    "\n",
    "for number in numbers:\n",
    "    match = re.match(pattern, number)\n",
    "    if match:\n",
    "        print(\"Match found:\", number)\n",
    "    else:\n",
    "        print(\"No match:\", number)\n"
   ]
  },
  {
   "attachments": {},
   "cell_type": "markdown",
   "metadata": {},
   "source": [
    "Answer21-->"
   ]
  },
  {
   "cell_type": "code",
   "execution_count": 5,
   "metadata": {},
   "outputs": [
    {
     "name": "stdout",
     "output_type": "stream",
     "text": [
      "Match found: Haruto Watanabe\n",
      "Match found: Alice Watanabe\n",
      "Match found: RoboCop Watanabe\n",
      "No match: haruto Watanabe\n",
      "No match: Mr. Watanabe\n",
      "No match: Watanabe\n",
      "No match: Haruto watanabe\n"
     ]
    }
   ],
   "source": [
    "import re\n",
    "\n",
    "pattern = r'^[A-Z][a-zA-Z]* Watanabe$'\n",
    "\n",
    "names = ['Haruto Watanabe', 'Alice Watanabe', 'RoboCop Watanabe', 'haruto Watanabe',\n",
    "         'Mr. Watanabe', 'Watanabe', 'Haruto watanabe']\n",
    "\n",
    "for name in names:\n",
    "    match = re.match(pattern, name)\n",
    "    if match:\n",
    "        print(\"Match found:\", name)\n",
    "    else:\n",
    "        print(\"No match:\", name)\n"
   ]
  },
  {
   "attachments": {},
   "cell_type": "markdown",
   "metadata": {},
   "source": [
    "Answer21-->"
   ]
  },
  {
   "cell_type": "code",
   "execution_count": 6,
   "metadata": {},
   "outputs": [
    {
     "name": "stdout",
     "output_type": "stream",
     "text": [
      "Match found: Alice eats apples.\n",
      "Match found: Bob pets cats.\n",
      "Match found: Carol throws baseballs.\n",
      "Match found: Alice throws Apples.\n",
      "Match found: BOB EATS CATS.\n",
      "No match: RoboCop eats apples.\n",
      "No match: ALICE THROWS FOOTBALLS.\n",
      "No match: Carol eats 7 cats.\n"
     ]
    }
   ],
   "source": [
    "import re\n",
    "\n",
    "pattern = r'^(Alice|Bob|Carol) (eats|pets|throws) (apples|cats|baseballs)\\.$'\n",
    "\n",
    "sentences = ['Alice eats apples.', 'Bob pets cats.', 'Carol throws baseballs.',\n",
    "             'Alice throws Apples.', 'BOB EATS CATS.', 'RoboCop eats apples.',\n",
    "             'ALICE THROWS FOOTBALLS.', 'Carol eats 7 cats.']\n",
    "\n",
    "regex = re.compile(pattern, re.IGNORECASE)\n",
    "\n",
    "for sentence in sentences:\n",
    "    match = regex.match(sentence)\n",
    "    if match:\n",
    "        print(\"Match found:\", sentence)\n",
    "    else:\n",
    "        print(\"No match:\", sentence)\n"
   ]
  }
 ],
 "metadata": {
  "kernelspec": {
   "display_name": "Python 3",
   "language": "python",
   "name": "python3"
  },
  "language_info": {
   "codemirror_mode": {
    "name": "ipython",
    "version": 3
   },
   "file_extension": ".py",
   "mimetype": "text/x-python",
   "name": "python",
   "nbconvert_exporter": "python",
   "pygments_lexer": "ipython3",
   "version": "3.8.2"
  },
  "orig_nbformat": 4
 },
 "nbformat": 4,
 "nbformat_minor": 2
}
