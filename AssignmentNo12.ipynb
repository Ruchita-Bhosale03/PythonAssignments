{
 "cells": [
  {
   "attachments": {},
   "cell_type": "markdown",
   "metadata": {},
   "source": [
    "Answer1-->\n",
    "\n",
    "PdfFileReader(): The File object passed to PdfFileReader() should be opened in binary mode ('rb'), indicating that the file is being opened for reading as binary data. This is because PDF files are binary files.\n",
    "\n",
    "PdfFileWriter(): The File object passed to PdfFileWriter() should be opened in binary mode ('wb'), indicating that the file is being opened for writing binary data. This is necessary to write the modified or new PDF content to the file."
   ]
  },
  {
   "attachments": {},
   "cell_type": "markdown",
   "metadata": {},
   "source": [
    "Answer2-->"
   ]
  },
  {
   "cell_type": "code",
   "execution_count": 2,
   "metadata": {},
   "outputs": [
    {
     "name": "stdout",
     "output_type": "stream",
     "text": [
      "Collecting PyPDF2\n",
      "  Using cached pypdf2-3.0.1-py3-none-any.whl (232 kB)\n",
      "Installing collected packages: PyPDF2\n",
      "Successfully installed PyPDF2-3.0.1\n",
      "Note: you may need to restart the kernel to use updated packages.\n"
     ]
    }
   ],
   "source": [
    "pip install PyPDF2"
   ]
  },
  {
   "cell_type": "code",
   "execution_count": 3,
   "metadata": {},
   "outputs": [
    {
     "name": "stdout",
     "output_type": "stream",
     "text": [
      "Requirement already satisfied: PyPDF2 in c:\\users\\ecs\\anaconda3\\lib\\site-packages (3.0.1)\n",
      "Note: you may need to restart the kernel to use updated packages.\n"
     ]
    }
   ],
   "source": [
    "pip install --upgrade PyPDF2"
   ]
  },
  {
   "cell_type": "code",
   "execution_count": 5,
   "metadata": {},
   "outputs": [
    {
     "name": "stdout",
     "output_type": "stream",
     "text": [
      "Question6-\n",
      "UsingthedatafromQuestion3,writecodetoanalyzethedataandanswerthefollowingquestionsNote1.\n",
      "Drawplotstodemonstratetheanalysisforthefollowingquestionsforbettervisualizations.\n",
      "2.Writecodecommentswhereverrequiredforcodeunderstanding\n",
      "Insightstobedrawn-\n",
      "●GetallPokemonswhosespawnrateislessthan5% \n",
      "●GetallPokemonsthathavelessthan4weaknesses \n",
      "●GetallPokemonsthathavenomultipliersatall \n",
      "●GetallPokemonsthatdonothavemorethan2evolutions \n",
      "●GetallPokemonswhosespawntimeislessthan300seconds.\n",
      "Note-spawntimeformatis\"05:32”,soassume“minute:second”formatandperformtheanalysis.\n",
      "●GetallPokemonwhohavemorethantwotypesofcapabilities\n",
      "Question7-\n",
      "UsingthedatafromQuestion4,writecodetoanalyzethedataandanswerthefollowingquestionsNote-\n",
      "1.Drawplotstodemonstratetheanalysisforthefollowingquestionsforbettervisualizations\n",
      "2.Writecodecommentswhereverrequiredforcodeunderstanding\n",
      "Insightstobedrawn-\n",
      "●GetalltheEarthmeteoritesthatfellbeforetheyear2000 \n",
      "●Getalltheearthmeteoritesco-ordinateswhofellbeforetheyear1970 \n",
      "●Assumingthatthemassoftheearthmeteoriteswasinkg,getallthosewhosemasswasmorethan10000kg\n"
     ]
    }
   ],
   "source": [
    "from PyPDF2 import PdfReader\n",
    "import os\n",
    "\n",
    "pdf_path = r'C:\\Users\\ECS\\Downloads\\Data Science.pdf'\n",
    "\n",
    "# Check if the file exists\n",
    "if os.path.exists(pdf_path):\n",
    "    # Open the PDF file\n",
    "    pdf_reader = PdfReader(pdf_path)\n",
    "\n",
    "    page_number = 4  \n",
    "    page = pdf_reader.pages[page_number]\n",
    "\n",
    "    page_text = page.extract_text()\n",
    "    print(page_text)\n",
    "else:\n",
    "    print(f\"File not found at path: {pdf_path}\")\n",
    "\n"
   ]
  },
  {
   "attachments": {},
   "cell_type": "markdown",
   "metadata": {},
   "source": [
    "Answer3-->\n",
    "In the PyPDF2 library, the number of pages in a PDF document can be obtained using the numPages attribute of the PdfFileReader class."
   ]
  },
  {
   "cell_type": "code",
   "execution_count": 9,
   "metadata": {},
   "outputs": [
    {
     "name": "stdout",
     "output_type": "stream",
     "text": [
      "The PDF document has 21 pages.\n"
     ]
    }
   ],
   "source": [
    "from PyPDF2 import PdfReader\n",
    "\n",
    "# Open the PDF file\n",
    "pdf_path = r'C:\\Users\\ECS\\Downloads\\Data Science.pdf'\n",
    "pdf_reader = PdfReader(pdf_path)\n",
    "\n",
    "# Get the number of pages in the PDF document\n",
    "num_pages = len(pdf_reader.pages)\n",
    "\n",
    "# Print the number of pages\n",
    "print(f\"The PDF document has {num_pages} pages.\")\n"
   ]
  },
  {
   "attachments": {},
   "cell_type": "markdown",
   "metadata": {},
   "source": [
    "Answer4-->Use the decrypt('swordfish') method on the PdfFileReader object, passing the correct password as the argument. This decrypts the PDF using the provided password.\n"
   ]
  },
  {
   "attachments": {},
   "cell_type": "markdown",
   "metadata": {},
   "source": [
    "Answer5-->\n",
    "To rotate a page in PyPDF2, you can use the rotateClockwise() and rotateCounterClockwise() methods of the PageObject class. These methods allow you to rotate a page clockwise or counterclockwise, respectively, by specifying the rotation angle."
   ]
  },
  {
   "attachments": {},
   "cell_type": "markdown",
   "metadata": {},
   "source": [
    "Answer6-->\n",
    "Run Object:\n",
    "A \"Run object\" typically represents a contiguous range of text within a paragraph that shares the same formatting attributes, such as font, size, color, or style. It is the smallest unit of text formatting. In other words, a run is a sequence of characters in a document that has consistent formatting.\n",
    "\n",
    "Paragraph Object:\n",
    "A \"Paragraph object\" represents a block of text or content that is separated from adjacent content by paragraph-level spacing or formatting. It is a higher-level element that typically encompasses multiple runs or a coherent piece of textual content."
   ]
  },
  {
   "attachments": {},
   "cell_type": "markdown",
   "metadata": {},
   "source": [
    "Answer7-->"
   ]
  },
  {
   "cell_type": "code",
   "execution_count": 11,
   "metadata": {},
   "outputs": [
    {
     "name": "stdout",
     "output_type": "stream",
     "text": [
      "Collecting docx\n",
      "  Downloading docx-0.2.4.tar.gz (54 kB)\n",
      "     -------------------------------------- 54.9/54.9 kB 709.3 kB/s eta 0:00:00\n",
      "  Preparing metadata (setup.py): started\n",
      "  Preparing metadata (setup.py): finished with status 'done'\n",
      "Requirement already satisfied: lxml in c:\\users\\ecs\\anaconda3\\lib\\site-packages (from docx) (4.9.1)\n",
      "Requirement already satisfied: Pillow>=2.0 in c:\\users\\ecs\\anaconda3\\lib\\site-packages (from docx) (9.4.0)\n",
      "Building wheels for collected packages: docx\n",
      "  Building wheel for docx (setup.py): started\n",
      "  Building wheel for docx (setup.py): finished with status 'done'\n",
      "  Created wheel for docx: filename=docx-0.2.4-py3-none-any.whl size=53905 sha256=2cb6fd1128f2691bbcb3ddf1d4df94154907eba0b8daa84cf61d05a8a044b2d0\n",
      "  Stored in directory: c:\\users\\ecs\\appdata\\local\\pip\\cache\\wheels\\34\\71\\d1\\6627e591572f0d8f43d326046644eaf8a7266f52d35fb71afc\n",
      "Successfully built docx\n",
      "Installing collected packages: docx\n",
      "Successfully installed docx-0.2.4\n",
      "Note: you may need to restart the kernel to use updated packages.\n"
     ]
    }
   ],
   "source": [
    "pip install docx"
   ]
  },
  {
   "cell_type": "code",
   "execution_count": 13,
   "metadata": {},
   "outputs": [
    {
     "name": "stdout",
     "output_type": "stream",
     "text": [
      "Collecting python-docx\n",
      "  Downloading python-docx-0.8.11.tar.gz (5.6 MB)\n",
      "     ---------------------------------------- 5.6/5.6 MB 1.5 MB/s eta 0:00:00\n",
      "  Preparing metadata (setup.py): started\n",
      "  Preparing metadata (setup.py): finished with status 'done'\n",
      "Requirement already satisfied: lxml>=2.3.2 in c:\\users\\ecs\\anaconda3\\lib\\site-packages (from python-docx) (4.9.1)\n",
      "Building wheels for collected packages: python-docx\n",
      "  Building wheel for python-docx (setup.py): started\n",
      "  Building wheel for python-docx (setup.py): finished with status 'done'\n",
      "  Created wheel for python-docx: filename=python_docx-0.8.11-py3-none-any.whl size=184519 sha256=d86c0c501efe5f7a7a775291e101a8a113d2ac388abcfe61e441c6e73c486b1d\n",
      "  Stored in directory: c:\\users\\ecs\\appdata\\local\\pip\\cache\\wheels\\65\\e1\\9b\\0c38fe6cfe02a9fe31cb6b4efd90985f17354d7f77872f2def\n",
      "Successfully built python-docx\n",
      "Installing collected packages: python-docx\n",
      "Successfully installed python-docx-0.8.11\n",
      "Note: you may need to restart the kernel to use updated packages.\n"
     ]
    }
   ],
   "source": [
    "pip install python-docx\n"
   ]
  },
  {
   "attachments": {},
   "cell_type": "markdown",
   "metadata": {},
   "source": [
    "from docx import Document\n",
    "\n",
    "paragraphs = doc.paragraphs\n",
    "\n",
    "for paragraph in paragraphs:\n",
    "    print(paragraph.text)"
   ]
  },
  {
   "attachments": {},
   "cell_type": "markdown",
   "metadata": {},
   "source": [
    "Answer8-->\n",
    "A Run object represents a contiguous range of text within a paragraph that shares the same formatting attributes. It is often used to apply specific formatting styles to a subset of text within a paragraph."
   ]
  },
  {
   "attachments": {},
   "cell_type": "markdown",
   "metadata": {},
   "source": [
    "Answer9-->\n",
    "False: When the bold variable is set to False, it indicates that the text run is not formatted as bold. \n",
    "\n",
    "True: When the bold variable is set to True, it indicates that the text run is formatted as bold. \n",
    "\n",
    "None: When the bold variable is set to None, it means that the bold formatting of the text run is not explicitly specified. In this case, the appearance of the text will depend on the default styling"
   ]
  },
  {
   "attachments": {},
   "cell_type": "markdown",
   "metadata": {},
   "source": [
    "Answer10-->\n"
   ]
  },
  {
   "cell_type": "code",
   "execution_count": 19,
   "metadata": {},
   "outputs": [],
   "source": [
    "from docx import Document\n",
    "doc = Document()\n",
    "doc.add_paragraph(\"Hello, world!\")\n",
    "doc.save(\"new_document.docx\")\n"
   ]
  },
  {
   "attachments": {},
   "cell_type": "markdown",
   "metadata": {},
   "source": [
    "Answer11-->"
   ]
  },
  {
   "cell_type": "code",
   "execution_count": 20,
   "metadata": {},
   "outputs": [],
   "source": [
    "doc.add_paragraph(\"Hello, there\")\n",
    "doc.save(\"new_document.docx\")"
   ]
  },
  {
   "attachments": {},
   "cell_type": "markdown",
   "metadata": {},
   "source": [
    "Answer12-->\n",
    "Heading Level 1: Represented by the integer 1\n",
    "Heading Level 2: Represented by the integer 2\n",
    "Heading Level 3: Represented by the integer 3\n",
    "Heading Level 4: Represented by the integer 4\n",
    "Heading Level 5: Represented by the integer 5\n",
    "Heading Level 6: Represented by the integer 6\n",
    "Heading Level 7: Represented by the integer 7\n",
    "Heading Level 8: Represented by the integer 8\n",
    "Heading Level 9: Represented by the integer 9"
   ]
  },
  {
   "cell_type": "code",
   "execution_count": null,
   "metadata": {},
   "outputs": [],
   "source": []
  }
 ],
 "metadata": {
  "kernelspec": {
   "display_name": "Python 3",
   "language": "python",
   "name": "python3"
  },
  "language_info": {
   "codemirror_mode": {
    "name": "ipython",
    "version": 3
   },
   "file_extension": ".py",
   "mimetype": "text/x-python",
   "name": "python",
   "nbconvert_exporter": "python",
   "pygments_lexer": "ipython3",
   "version": "3.10.9"
  },
  "orig_nbformat": 4
 },
 "nbformat": 4,
 "nbformat_minor": 2
}
