{
 "cells": [
  {
   "attachments": {},
   "cell_type": "markdown",
   "metadata": {},
   "source": [
    "Answer1-->"
   ]
  },
  {
   "cell_type": "code",
   "execution_count": 1,
   "metadata": {},
   "outputs": [
    {
     "name": "stdout",
     "output_type": "stream",
     "text": [
      "The LCM of 4 and 6 is: 12\n"
     ]
    }
   ],
   "source": [
    "num1 = int(input(\"Enter the first number: \"))\n",
    "num2 = int(input(\"Enter the second number: \"))\n",
    "\n",
    "max_num = max(num1, num2)\n",
    "\n",
    "lcm = max_num\n",
    "while True:\n",
    "    if lcm % num1 == 0 and lcm % num2 == 0:\n",
    "        break\n",
    "    lcm += max_num\n",
    "\n",
    "print(\"The LCM of\", num1, \"and\", num2, \"is:\", lcm)\n"
   ]
  },
  {
   "attachments": {},
   "cell_type": "markdown",
   "metadata": {},
   "source": [
    "Answer2-->"
   ]
  },
  {
   "cell_type": "code",
   "execution_count": 2,
   "metadata": {},
   "outputs": [
    {
     "name": "stdout",
     "output_type": "stream",
     "text": [
      "The HCF of 7 and 8 is: 1\n"
     ]
    }
   ],
   "source": [
    "num1 = int(input(\"Enter the first number: \"))\n",
    "num2 = int(input(\"Enter the second number: \"))\n",
    "\n",
    "min_num = min(num1, num2)\n",
    "\n",
    "factors = []\n",
    "for i in range(1, min_num + 1):\n",
    "    if num1 % i == 0 and num2 % i == 0:\n",
    "        factors.append(i)\n",
    "\n",
    "hcf = max(factors)\n",
    "\n",
    "print(\"The HCF of\", num1, \"and\", num2, \"is:\", hcf)\n"
   ]
  },
  {
   "attachments": {},
   "cell_type": "markdown",
   "metadata": {},
   "source": [
    "Answer3-->"
   ]
  },
  {
   "cell_type": "code",
   "execution_count": 3,
   "metadata": {},
   "outputs": [
    {
     "name": "stdout",
     "output_type": "stream",
     "text": [
      "Binary: 100\n",
      "Octal: 4\n",
      "Hexadecimal: 4\n"
     ]
    }
   ],
   "source": [
    "decimal = int(input(\"Enter a decimal number: \"))\n",
    "\n",
    "binary = bin(decimal)[2:]\n",
    "\n",
    "# Convert decimal to octal\n",
    "octal = oct(decimal)[2:]\n",
    "\n",
    "# Convert decimal to hexadecimal\n",
    "hexadecimal = hex(decimal)[2:]\n",
    "\n",
    "print(\"Binary:\", binary)\n",
    "print(\"Octal:\", octal)\n",
    "print(\"Hexadecimal:\", hexadecimal)\n"
   ]
  },
  {
   "attachments": {},
   "cell_type": "markdown",
   "metadata": {},
   "source": [
    "Answer4-->"
   ]
  },
  {
   "cell_type": "code",
   "execution_count": 4,
   "metadata": {},
   "outputs": [
    {
     "name": "stdout",
     "output_type": "stream",
     "text": [
      "The ASCII value of b is: 98\n"
     ]
    }
   ],
   "source": [
    "character = input(\"Enter a character: \")\n",
    "\n",
    "ascii_value = ord(character)\n",
    "\n",
    "print(\"The ASCII value of\", character, \"is:\", ascii_value)\n"
   ]
  },
  {
   "attachments": {},
   "cell_type": "markdown",
   "metadata": {},
   "source": [
    "Answer5-->"
   ]
  },
  {
   "cell_type": "code",
   "execution_count": 5,
   "metadata": {},
   "outputs": [
    {
     "name": "stdout",
     "output_type": "stream",
     "text": [
      "Select an operation:\n",
      "1. Addition\n",
      "2. Subtraction\n",
      "3. Multiplication\n",
      "4. Division\n",
      "Result: 65.0\n"
     ]
    }
   ],
   "source": [
    "num1 = float(input(\"Enter the first number: \"))\n",
    "num2 = float(input(\"Enter the second number: \"))\n",
    "\n",
    "# Prompt the user to select an operation\n",
    "print(\"Select an operation:\")\n",
    "print(\"1. Addition\")\n",
    "print(\"2. Subtraction\")\n",
    "print(\"3. Multiplication\")\n",
    "print(\"4. Division\")\n",
    "choice = int(input(\"Enter your choice (1-4): \"))\n",
    "\n",
    "# Perform the selected operation\n",
    "result = 0\n",
    "if choice == 1:\n",
    "    result = num1 + num2\n",
    "elif choice == 2:\n",
    "    result = num1 - num2\n",
    "elif choice == 3:\n",
    "    result = num1 * num2\n",
    "elif choice == 4:\n",
    "    result = num1 / num2\n",
    "else:\n",
    "    print(\"Invalid choice. Please select a valid operation.\")\n",
    "\n",
    "# Print the result\n",
    "print(\"Result:\", result)\n"
   ]
  }
 ],
 "metadata": {
  "kernelspec": {
   "display_name": "base",
   "language": "python",
   "name": "python3"
  },
  "language_info": {
   "codemirror_mode": {
    "name": "ipython",
    "version": 3
   },
   "file_extension": ".py",
   "mimetype": "text/x-python",
   "name": "python",
   "nbconvert_exporter": "python",
   "pygments_lexer": "ipython3",
   "version": "3.10.9"
  },
  "orig_nbformat": 4
 },
 "nbformat": 4,
 "nbformat_minor": 2
}
