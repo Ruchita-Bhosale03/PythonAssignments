{
 "cells": [
  {
   "cell_type": "code",
   "execution_count": 2,
   "metadata": {},
   "outputs": [
    {
     "name": "stdout",
     "output_type": "stream",
     "text": [
      "True\n"
     ]
    }
   ],
   "source": [
    "#Answer1\n",
    "def is_symmetrical(number):\n",
    "    return str(number) == str(number)[::-1]\n",
    "\n",
    "print(is_symmetrical(1112111))"
   ]
  },
  {
   "cell_type": "code",
   "execution_count": 4,
   "metadata": {},
   "outputs": [
    {
     "name": "stdout",
     "output_type": "stream",
     "text": [
      "24\n"
     ]
    }
   ],
   "source": [
    "#Answer2\n",
    "def multiply_num(numbers):\n",
    "    nums = [int(num) for num in numbers.split(\", \") ]\n",
    "    product = 1\n",
    "    for num in nums:\n",
    "        product *= num\n",
    "    return product\n",
    "print(multiply_num(\"1, 2, 3, 4\"))  "
   ]
  },
  {
   "cell_type": "code",
   "execution_count": 12,
   "metadata": {},
   "outputs": [
    {
     "data": {
      "text/plain": [
       "811811"
      ]
     },
     "execution_count": 12,
     "metadata": {},
     "output_type": "execute_result"
    }
   ],
   "source": [
    "#Answer3\n",
    "def square_digits(number):\n",
    "    result = ''\n",
    "    for digits in str(number):\n",
    "        squared_digit = int(digits) ** 2\n",
    "        result += str(squared_digit)\n",
    "    return int (result)\n",
    "\n",
    "square_digits(9191)"
   ]
  },
  {
   "cell_type": "code",
   "execution_count": 13,
   "metadata": {},
   "outputs": [
    {
     "name": "stdout",
     "output_type": "stream",
     "text": [
      "[1, 3, 5]\n"
     ]
    }
   ],
   "source": [
    "##Answer4\n",
    "def setify(lst):\n",
    "    return sorted(list(set(lst)))\n",
    "\n",
    "\n",
    "print(setify([1, 3, 3, 5, 5]))"
   ]
  },
  {
   "cell_type": "code",
   "execution_count": 16,
   "metadata": {},
   "outputs": [
    {
     "data": {
      "text/plain": [
       "5"
      ]
     },
     "execution_count": 16,
     "metadata": {},
     "output_type": "execute_result"
    }
   ],
   "source": [
    "##Answer5\n",
    "def mean(number):\n",
    "    digits = [int(digit) for digit in str(number)]\n",
    "    mean_value = sum(digits)//len(digits)\n",
    "    return mean_value\n",
    "\n",
    "mean(1234567889)"
   ]
  },
  {
   "cell_type": "code",
   "execution_count": null,
   "metadata": {},
   "outputs": [],
   "source": []
  }
 ],
 "metadata": {
  "kernelspec": {
   "display_name": "base",
   "language": "python",
   "name": "python3"
  },
  "language_info": {
   "codemirror_mode": {
    "name": "ipython",
    "version": 3
   },
   "file_extension": ".py",
   "mimetype": "text/x-python",
   "name": "python",
   "nbconvert_exporter": "python",
   "pygments_lexer": "ipython3",
   "version": "3.10.9"
  },
  "orig_nbformat": 4
 },
 "nbformat": 4,
 "nbformat_minor": 2
}
