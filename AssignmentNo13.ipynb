{
 "cells": [
  {
   "attachments": {},
   "cell_type": "markdown",
   "metadata": {},
   "source": [
    "Answer1-->\n",
    "\n",
    "1) Formatting and Styling: Excel allows you to apply various formatting options such as font styles, colors, cell borders, conditional formatting, and alignment. You can also add images, charts, and graphs to make your data more visually appealing and easier to understand.\n",
    "CSV files, on the other hand, do not support any formatting options.\n",
    "\n",
    "2) You can use functions like SUM, AVERAGE, COUNT, IF, VLOOKUP, and many more. This functionality is not available in CSV files, as they only store raw data without any computational capabilities.\n",
    "\n",
    "3)Excel allows you to create multiple sheets within a single file and organize your data into different tabs.\n",
    "CSV files, on the other hand, contain only a single sheet of data per file.\n",
    "\n",
    "4)Excel also offers password protection and user-level permissions, enabling you to control access to your spreadsheets. \n",
    "CSV files do not have built-in data validation or security features."
   ]
  },
  {
   "attachments": {},
   "cell_type": "markdown",
   "metadata": {},
   "source": [
    "Answer2-->\n",
    "Creating a reader object:\n",
    "To read data from a CSV file, you can use the csv.reader() function and pass it a file object as a parameter.\n",
    "\n",
    "import csv\n",
    "\n",
    "# Open the CSV file\n",
    "with open('data.csv', 'r') as file:\n",
    "    reader = csv.reader(file)\n",
    "    \n",
    "    for row in reader:\n",
    "        # Access the data in each row\n",
    "        print(row)\n",
    "\n",
    "\n",
    "Creating a writer object:\n",
    "To write data to a CSV file, you can use the csv.writer() function and pass it a file object as a parameter.\n",
    "\n",
    "import csv\n",
    "\n",
    "# Open the CSV file in write mode\n",
    "with open('output.csv', 'w', newline='') as file:\n",
    "    writer = csv.writer(file)\n",
    "    \n",
    "    # Write rows to the CSV file\n",
    "    writer.writerow(['Name', 'Age', 'City'])\n",
    "    writer.writerow(['John', 30, 'New York'])\n",
    "    writer.writerow(['Alice', 25, 'London'])\n",
    "\n"
   ]
  },
  {
   "attachments": {},
   "cell_type": "markdown",
   "metadata": {},
   "source": [
    "Answer3-->\n",
    "Reader Object:\n",
    "To create a reader object, the file object should be opened in 'r' mode, which stands for reading mode. This allows the csv.reader() function to read data from the file.\n",
    "\n",
    "Writer Object:\n",
    "To create a writer object, the file object should be opened in 'w' mode, which stands for writing mode. This allows the csv.writer() function to write data to the file."
   ]
  },
  {
   "attachments": {},
   "cell_type": "markdown",
   "metadata": {},
   "source": [
    "Answer4-->\n",
    "The writerow() method of the writer object from the csv module is used to write a list of values as a row to a CSV file. Each element in the list corresponds to a cell value in the CSV file."
   ]
  },
  {
   "attachments": {},
   "cell_type": "markdown",
   "metadata": {},
   "source": [
    "Answer5-->\n",
    "The delimiter and lineterminator are keyword arguments used in the csv.writer() function from the csv module in Python. \n",
    "\n",
    "Delimiter (delimiter):\n",
    "The delimiter argument specifies the character used to separate individual fields (columns) in the CSV file. By default, the comma (,) is used as the delimiter. However, you can provide a different character as the delimiter if desired. \n",
    "\n",
    "Line Terminator (lineterminator):\n",
    "The lineterminator argument specifies the character used to terminate each line in the CSV file. By default, the line terminator is the operating system's default line ending (\\r\\n on Windows)."
   ]
  },
  {
   "attachments": {},
   "cell_type": "markdown",
   "metadata": {},
   "source": [
    "Answer6-->\n",
    "The json.loads() function in Python is used to convert a JSON-formatted string into a corresponding Python data structure. The loads() function stands for \"load string.\""
   ]
  },
  {
   "cell_type": "code",
   "execution_count": 1,
   "metadata": {},
   "outputs": [
    {
     "name": "stdout",
     "output_type": "stream",
     "text": [
      "John\n",
      "30\n",
      "New York\n"
     ]
    }
   ],
   "source": [
    "import json\n",
    "\n",
    "# JSON string\n",
    "json_str = '{\"name\": \"John\", \"age\": 30, \"city\": \"New York\"}'\n",
    "\n",
    "# Convert JSON string to Python data structure\n",
    "data = json.loads(json_str)\n",
    "\n",
    "\n",
    "print(data[\"name\"])  \n",
    "print(data[\"age\"])   \n",
    "print(data[\"city\"])  "
   ]
  },
  {
   "attachments": {},
   "cell_type": "markdown",
   "metadata": {},
   "source": [
    "Answer7-->\n",
    "The json.dumps() function in Python is used to convert a Python data structure into a corresponding JSON-formatted string. The dumps() function stands for \"dump string.\""
   ]
  },
  {
   "cell_type": "code",
   "execution_count": 2,
   "metadata": {},
   "outputs": [
    {
     "name": "stdout",
     "output_type": "stream",
     "text": [
      "{\"name\": \"John\", \"age\": 30, \"city\": \"New York\"}\n"
     ]
    }
   ],
   "source": [
    "import json\n",
    "\n",
    "# Python data structure\n",
    "data = {\n",
    "    \"name\": \"John\",\n",
    "    \"age\": 30,\n",
    "    \"city\": \"New York\"\n",
    "}\n",
    "\n",
    "# Convert Python data structure to JSON string\n",
    "json_str = json.dumps(data)\n",
    "\n",
    "# Output the JSON string\n",
    "print(json_str)\n"
   ]
  },
  {
   "cell_type": "code",
   "execution_count": null,
   "metadata": {},
   "outputs": [],
   "source": []
  }
 ],
 "metadata": {
  "kernelspec": {
   "display_name": "base",
   "language": "python",
   "name": "python3"
  },
  "language_info": {
   "codemirror_mode": {
    "name": "ipython",
    "version": 3
   },
   "file_extension": ".py",
   "mimetype": "text/x-python",
   "name": "python",
   "nbconvert_exporter": "python",
   "pygments_lexer": "ipython3",
   "version": "3.10.9"
  },
  "orig_nbformat": 4
 },
 "nbformat": 4,
 "nbformat_minor": 2
}
