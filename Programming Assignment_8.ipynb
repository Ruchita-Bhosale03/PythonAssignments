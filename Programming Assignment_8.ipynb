{
 "cells": [
  {
   "cell_type": "code",
   "execution_count": 2,
   "metadata": {},
   "outputs": [
    {
     "name": "stdout",
     "output_type": "stream",
     "text": [
      "Sum of the matrices:\n",
      "[2, 2, 2]\n",
      "[2, 2, 2]\n",
      "[2, 2, 2]\n"
     ]
    }
   ],
   "source": [
    "#Answer1\n",
    "matrix1 = [list(map(int, input(\"Enter the elements for matrix 1 (row separated by spaces): \").split())) for _ in range(int(input(\"Enter the number of rows for matrix 1: \")))]\n",
    "\n",
    "rows1, cols1 = len(matrix1), len(matrix1[0])\n",
    "\n",
    "matrix2 = [list(map(int, input(\"Enter the elements for matrix 2 (row separated by spaces): \").split())) for _ in range(int(input(\"Enter the number of rows for matrix 2: \")))]\n",
    "rows2, cols2 = len(matrix2), len(matrix2[0])\n",
    "\n",
    "\n",
    "if rows1 != rows2 or cols1 != cols2:\n",
    "    print(\"Matrices cannot be added. They should have the same dimensions.\")\n",
    "else:\n",
    "    sum_matrix = [[matrix1[i][j] + matrix2[i][j] for j in range(cols1)] for i in range(rows1)]\n",
    "\n",
    "    print(\"Sum of the matrices:\")\n",
    "    for row in sum_matrix:\n",
    "        print(row)\n"
   ]
  },
  {
   "cell_type": "code",
   "execution_count": 5,
   "metadata": {},
   "outputs": [
    {
     "name": "stdout",
     "output_type": "stream",
     "text": [
      "Multication of matrix\n",
      "[1, 1, 1]\n",
      "[1, 1, 1]\n",
      "[1, 1, 1]\n"
     ]
    }
   ],
   "source": [
    "#Answer2\n",
    "\n",
    "matrix1=[list(map(int,input(\"Enter the elements for matrix 1 (row separated by spaces):\").split()))for _ in range(int(input(\"enter the number of rows for matrix 1:\")))]\n",
    "rows1, cols1 = len(matrix1),len(matrix1[0])\n",
    "\n",
    "matrix2 = [list(map(int, input(\"Enter the elements for matrix 2 (row separated by spaces): \").split())) for _ in range(int(input(\"Enter the number of rows for matrix 2: \")))]\n",
    "rows2, cols2 = len(matrix2), len(matrix2[0])\n",
    "\n",
    "if rows1 != rows2 or cols1 != cols2:\n",
    "    print(\"Matrices cannot be added. They should have the same dimensions.\")\n",
    "else:\n",
    "    mul_matrix = [[matrix1[i][j] * matrix2[i][j] for j in range(cols1)]for i in range(rows1)]\n",
    "\n",
    "    print(\"Multication of matrix\")\n",
    "    for row in mul_matrix:\n",
    "        print(row)\n",
    "\n",
    "\n"
   ]
  },
  {
   "cell_type": "code",
   "execution_count": 6,
   "metadata": {},
   "outputs": [
    {
     "name": "stdout",
     "output_type": "stream",
     "text": [
      "Transpose of the matrix:\n",
      "[1, 4, 7]\n",
      "[2, 5, 8]\n",
      "[3, 6, 9]\n"
     ]
    }
   ],
   "source": [
    "#Answer3\n",
    "\n",
    "matrix = [\n",
    "    list(map(int, input(\"Enter the elements for matrix (row separated by spaces): \").split()))\n",
    "    for _ in range(int(input(\"Enter the number of rows for matrix: \")))\n",
    "]\n",
    "rows, cols = len(matrix), len(matrix[0])\n",
    "\n",
    "transpose_matrix = [\n",
    "    [matrix[j][i] for j in range(rows)]\n",
    "    for i in range(cols)\n",
    "]\n",
    "\n",
    "print(\"Transpose of the matrix:\")\n",
    "for row in transpose_matrix:\n",
    "    print(row)\n"
   ]
  },
  {
   "cell_type": "code",
   "execution_count": 8,
   "metadata": {},
   "outputs": [
    {
     "name": "stdout",
     "output_type": "stream",
     "text": [
      "Words in alphabetical order:\n",
      "am\n",
      "at\n",
      "good\n",
      "i\n",
      "python\n"
     ]
    }
   ],
   "source": [
    "#Answer4\n",
    "\n",
    "sentence = input(\"Enter a sentence: \")\n",
    "\n",
    "words = sentence.split()\n",
    "\n",
    "sorted_words = sorted(words)\n",
    "\n",
    "print(\"Words in alphabetical order:\")\n",
    "for word in sorted_words:\n",
    "    print(word)\n",
    "    "
   ]
  },
  {
   "cell_type": "code",
   "execution_count": 10,
   "metadata": {},
   "outputs": [
    {
     "name": "stdout",
     "output_type": "stream",
     "text": [
      "sentence with punctuation: aren,t you working from home?\n",
      "Sentence without punctuation: arent you working from home\n"
     ]
    }
   ],
   "source": [
    "#Answer5\n",
    "import string\n",
    "\n",
    "sentence = input(\"Enter a sentence: \")\n",
    "print(f\"sentence with punctuation: {sentence}\")\n",
    "translator = str.maketrans(\"\", \"\", string.punctuation)\n",
    "clean_sentence = sentence.translate(translator)\n",
    "\n",
    "print(\"Sentence without punctuation:\", clean_sentence)\n"
   ]
  },
  {
   "cell_type": "code",
   "execution_count": null,
   "metadata": {},
   "outputs": [],
   "source": []
  }
 ],
 "metadata": {
  "kernelspec": {
   "display_name": "base",
   "language": "python",
   "name": "python3"
  },
  "language_info": {
   "codemirror_mode": {
    "name": "ipython",
    "version": 3
   },
   "file_extension": ".py",
   "mimetype": "text/x-python",
   "name": "python",
   "nbconvert_exporter": "python",
   "pygments_lexer": "ipython3",
   "version": "3.10.9"
  },
  "orig_nbformat": 4
 },
 "nbformat": 4,
 "nbformat_minor": 2
}
