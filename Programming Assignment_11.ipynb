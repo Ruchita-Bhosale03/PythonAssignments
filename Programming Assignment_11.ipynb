{
 "cells": [
  {
   "cell_type": "code",
   "execution_count": 5,
   "metadata": {},
   "outputs": [
    {
     "name": "stdout",
     "output_type": "stream",
     "text": [
      "Words greater than length 4 :\n",
      "Practice\n",
      "makes\n",
      "perfect\n"
     ]
    }
   ],
   "source": [
    "#Answer1\n",
    "sentence = \"Practice makes man perfect\"\n",
    "k= 4\n",
    "words = sentence.split()\n",
    "\n",
    "words_greater_than_k = [word for word in words if len(word) > k ]\n",
    "\n",
    "print(\"Words greater than length\", k, \":\")\n",
    "for word in words_greater_than_k:\n",
    "    print(word)\n",
    "\n",
    "\n"
   ]
  },
  {
   "cell_type": "code",
   "execution_count": 7,
   "metadata": {},
   "outputs": [
    {
     "name": "stdout",
     "output_type": "stream",
     "text": [
      "Updated string: Hello, orld!\n"
     ]
    }
   ],
   "source": [
    "#Answer2\n",
    "\n",
    "# Sample string\n",
    "text = \"Hello, World!\"\n",
    "\n",
    "# Index of the character to remove\n",
    "i = 7\n",
    "\n",
    "# Remove the i-th character from the string\n",
    "new_text = text[:i] + text[i+1:]\n",
    "# Print the updated string\n",
    "print(\"Updated string:\", new_text)\n"
   ]
  },
  {
   "cell_type": "code",
   "execution_count": 12,
   "metadata": {},
   "outputs": [
    {
     "name": "stdout",
     "output_type": "stream",
     "text": [
      "split str: ['Hello,', 'World!']\n",
      "join str: Hello,World!\n"
     ]
    }
   ],
   "source": [
    "#Answer3\n",
    "\n",
    "text = \"Hello, World!\"\n",
    "\n",
    "words= text.split()\n",
    "\n",
    "join_str = ''.join(words)\n",
    "\n",
    "print(\"split str:\",words)\n",
    "print(\"join str:\",join_str)"
   ]
  },
  {
   "cell_type": "code",
   "execution_count": 13,
   "metadata": {},
   "outputs": [
    {
     "name": "stdout",
     "output_type": "stream",
     "text": [
      "The string is a binary string.\n"
     ]
    }
   ],
   "source": [
    "#Answer4\n",
    "text = \"1010101\"\n",
    "\n",
    "if all(char in '01' for char in text):\n",
    "    print(\"The string is a binary string.\")\n",
    "else:\n",
    "    print(\"The string is not a binary string.\")"
   ]
  },
  {
   "cell_type": "code",
   "execution_count": 14,
   "metadata": {},
   "outputs": [
    {
     "name": "stdout",
     "output_type": "stream",
     "text": [
      "Uncommon words: ['world', 'Python']\n"
     ]
    }
   ],
   "source": [
    "#Answer5\n",
    "\n",
    "string1 = \"Hello world\"\n",
    "string2 = \"Hello Python\"\n",
    "\n",
    "words1 = string1.split()\n",
    "words2 = string2.split()\n",
    "\n",
    "# Find uncommon words\n",
    "uncommon_words = []\n",
    "\n",
    "\n",
    "# Iterate over words in string1\n",
    "for word in words1:\n",
    "    if word not in words2:\n",
    "        uncommon_words.append(word)\n",
    "\n",
    "# Iterate over words in string2\n",
    "for word in words2:\n",
    "    if word not in words1:\n",
    "        uncommon_words.append(word)\n",
    "\n",
    "print(\"Uncommon words:\", uncommon_words)\n"
   ]
  },
  {
   "cell_type": "code",
   "execution_count": 15,
   "metadata": {},
   "outputs": [
    {
     "name": "stdout",
     "output_type": "stream",
     "text": [
      "Duplicate characters: [' ', 'l', 'e', 'o', 'H']\n"
     ]
    }
   ],
   "source": [
    "#Answer6\n",
    "text = \"Hello, World! Hello\"\n",
    "\n",
    "# Create a set to store duplicate characters\n",
    "duplicate_chars = set()\n",
    "\n",
    "# Iterate over each character in the string\n",
    "for char in text:\n",
    "    # Check if the character appears more than once in the string\n",
    "    if text.count(char) > 1:\n",
    "        duplicate_chars.add(char)\n",
    "\n",
    "print(\"Duplicate characters:\", list(duplicate_chars))\n"
   ]
  },
  {
   "cell_type": "code",
   "execution_count": 16,
   "metadata": {},
   "outputs": [
    {
     "name": "stdout",
     "output_type": "stream",
     "text": [
      "The string contains special characters.\n"
     ]
    }
   ],
   "source": [
    "#Answer7\n",
    "text = \"Hello, $world\"\n",
    "\n",
    "special_char = False\n",
    "\n",
    "for char in text:\n",
    "    if not char.isalnum():\n",
    "        special_char = True\n",
    "        break\n",
    "\n",
    "if special_char:\n",
    "    print(\"The string contains special characters.\")\n",
    "else:\n",
    "    print(\"The string does not contain special characters.\")\n",
    "\n"
   ]
  },
  {
   "cell_type": "code",
   "execution_count": null,
   "metadata": {},
   "outputs": [],
   "source": []
  }
 ],
 "metadata": {
  "kernelspec": {
   "display_name": "base",
   "language": "python",
   "name": "python3"
  },
  "language_info": {
   "codemirror_mode": {
    "name": "ipython",
    "version": 3
   },
   "file_extension": ".py",
   "mimetype": "text/x-python",
   "name": "python",
   "nbconvert_exporter": "python",
   "pygments_lexer": "ipython3",
   "version": "3.10.9"
  },
  "orig_nbformat": 4
 },
 "nbformat": 4,
 "nbformat_minor": 2
}
