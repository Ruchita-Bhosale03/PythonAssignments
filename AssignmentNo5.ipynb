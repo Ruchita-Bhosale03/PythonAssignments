{
 "cells": [
  {
   "attachments": {},
   "cell_type": "markdown",
   "metadata": {},
   "source": [
    "Answer1-->\n",
    "In Python, an empty dictionary is represented by a pair of curly braces {}\n",
    "my_dict = {}\n",
    "\n",
    "my_dict = {'key1': 'value1', 'key2': 'value2'}\n",
    "\n"
   ]
  },
  {
   "attachments": {},
   "cell_type": "markdown",
   "metadata": {},
   "source": [
    "Answer2-->"
   ]
  },
  {
   "cell_type": "code",
   "execution_count": 1,
   "metadata": {},
   "outputs": [
    {
     "name": "stdout",
     "output_type": "stream",
     "text": [
      "42\n"
     ]
    }
   ],
   "source": [
    "my_dict = {'foo': 42}\n",
    "value = my_dict['foo']\n",
    "print(value) "
   ]
  },
  {
   "attachments": {},
   "cell_type": "markdown",
   "metadata": {},
   "source": [
    "Answer3-->\n",
    "List: A list is an ordered collection of items, where each item is assigned an index based on its position. Lists are represented by square brackets [] and can contain elements of any data type. Lists preserve the order of elements.\n",
    "\n",
    "Dictionary: A dictionary is an unordered collection of key-value pairs, where each value is associated with a unique key. Dictionaries are represented by curly braces {} and use a mapping structure. Keys in a dictionary must be unique, and they are used to access the corresponding values."
   ]
  },
  {
   "attachments": {},
   "cell_type": "markdown",
   "metadata": {},
   "source": [
    "Answer4-->\n",
    "spam = {'bar': 100}\n",
    "value = spam['foo']  # Raises KeyError: 'foo'\n",
    "\n",
    "when you try to access a dictionary element using a key that does not exist in the dictionary, it raises a KeyError indicating that the specified key is not present.\n"
   ]
  },
  {
   "attachments": {},
   "cell_type": "markdown",
   "metadata": {},
   "source": [
    "Answer5-->\n"
   ]
  },
  {
   "cell_type": "code",
   "execution_count": 3,
   "metadata": {},
   "outputs": [
    {
     "name": "stdout",
     "output_type": "stream",
     "text": [
      "'cat' is a key in 'spam'\n",
      "'cat' is a key in 'spam' (using keys() method)\n"
     ]
    }
   ],
   "source": [
    "spam = {'cat': 42, 'dog': 99, 'bird': 23}\n",
    "\n",
    "# Check if 'cat' is a key in the dictionary 'spam'\n",
    "if 'cat' in spam:\n",
    "    print(\"'cat' is a key in 'spam'\")\n",
    "else:\n",
    "    print(\"'cat' is not a key in 'spam'\")\n",
    "\n",
    "# Check if 'cat' is a key in the dictionary 'spam' using 'keys()' method\n",
    "if 'cat' in spam.keys():\n",
    "    print(\"'cat' is a key in 'spam' (using keys() method)\")\n",
    "else:\n",
    "    print(\"'cat' is not a key in 'spam' (using keys() method)\")"
   ]
  },
  {
   "attachments": {},
   "cell_type": "markdown",
   "metadata": {},
   "source": [
    "Answer6-->\n"
   ]
  },
  {
   "cell_type": "code",
   "execution_count": 4,
   "metadata": {},
   "outputs": [
    {
     "name": "stdout",
     "output_type": "stream",
     "text": [
      "'cat' is not a key in 'spam'\n",
      "'cat' is a value in 'spam' (using values() method)\n"
     ]
    }
   ],
   "source": [
    "spam = {'animal': 'cat', 'color': 'blue', 'number': 42}\n",
    "\n",
    "# Check if 'cat' is a key in the dictionary 'spam'\n",
    "if 'cat' in spam:\n",
    "    print(\"'cat' is a key in 'spam'\")\n",
    "else:\n",
    "    print(\"'cat' is not a key in 'spam'\")\n",
    "\n",
    "# Check if 'cat' is a value in the dictionary 'spam' using 'values()' method\n",
    "if 'cat' in spam.values():\n",
    "    print(\"'cat' is a value in 'spam' (using values() method)\")\n",
    "else:\n",
    "    print(\"'cat' is not a value in 'spam' (using values() method)\")\n"
   ]
  },
  {
   "attachments": {},
   "cell_type": "markdown",
   "metadata": {},
   "source": [
    "Answer7-->\n",
    "\n",
    "spam.setdefault('color', 'black')\n"
   ]
  },
  {
   "cell_type": "code",
   "execution_count": 5,
   "metadata": {},
   "outputs": [
    {
     "name": "stdout",
     "output_type": "stream",
     "text": [
      "{'key1': 'value1', 'key2': 'value2', 'key3': {'nested_key': 'nested_value'}}\n"
     ]
    }
   ],
   "source": [
    "import pprint\n",
    "\n",
    "my_dict = {'key1': 'value1', 'key2': 'value2', 'key3': {'nested_key': 'nested_value'}}\n",
    "\n",
    "pprint.pprint(my_dict)"
   ]
  }
 ],
 "metadata": {
  "kernelspec": {
   "display_name": "Python 3",
   "language": "python",
   "name": "python3"
  },
  "language_info": {
   "codemirror_mode": {
    "name": "ipython",
    "version": 3
   },
   "file_extension": ".py",
   "mimetype": "text/x-python",
   "name": "python",
   "nbconvert_exporter": "python",
   "pygments_lexer": "ipython3",
   "version": "3.8.2"
  },
  "orig_nbformat": 4
 },
 "nbformat": 4,
 "nbformat_minor": 2
}
