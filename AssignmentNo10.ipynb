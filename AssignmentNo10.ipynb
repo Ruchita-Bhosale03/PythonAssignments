{
 "cells": [
  {
   "attachments": {},
   "cell_type": "markdown",
   "metadata": {},
   "source": [
    "Answer1-->\n",
    "shutil.copy(src, dst): The copy() function is used to copy a single file from the source path src to the destination path dst. It creates a new file at the destination with the same content as the source file. If the destination file already exists, it will be overwritten. The copy() function does not copy directory structures, only individual files.\n",
    "\n",
    "shutil.copy(src, dst): The copy() function is used to copy a single file from the source path src to the destination path dst. It creates a new file at the destination with the same content as the source file. If the destination file already exists, it will be overwritten. The copy() function does not copy directory structures, only individual files.If the destination directory already exists, the operation will fail. However, if the ignore parameter is provided, it allows you to specify patterns for excluding certain files or directories from the copy.\n",
    "\n"
   ]
  },
  {
   "attachments": {},
   "cell_type": "markdown",
   "metadata": {},
   "source": [
    "Answer2-->The os.rename() function allows you to rename a file by providing the current path and name of the file, as well as the new path and name.\n"
   ]
  },
  {
   "attachments": {},
   "cell_type": "markdown",
   "metadata": {},
   "source": [
    "Answer3-->The send2trash module provides a safe way to delete files and directories by moving them to the operating system's trash or recycle bin instead of permanently deleting them. This allows for easy recovery of deleted files if needed.\n",
    "send2trash(path)\n",
    "\n",
    "\n",
    "shutil module: The shutil module provides a wider range of file and directory operations, including file and directory deletion. The shutil module's rmtree() function can be used to recursively delete an entire directory tree.\n",
    "shutil.rmtree(path)"
   ]
  },
  {
   "attachments": {},
   "cell_type": "markdown",
   "metadata": {},
   "source": [
    "Answer4-->The equivalent method in ZipFile objects to the open() method in File objects is the extractall() method.\n",
    "The extractall() method in the ZipFile class allows you to extract all the files and directories from a zip archive. It requires a target directory where the contents of the zip file will be extracted.\n"
   ]
  },
  {
   "attachments": {},
   "cell_type": "markdown",
   "metadata": {},
   "source": [
    "Answer5-->"
   ]
  },
  {
   "cell_type": "code",
   "execution_count": 1,
   "metadata": {},
   "outputs": [
    {
     "data": {
      "text/plain": [
       "'D:/Downloads'"
      ]
     },
     "execution_count": 1,
     "metadata": {},
     "output_type": "execute_result"
    }
   ],
   "source": [
    "import os\n",
    "import shutil\n",
    "\n",
    "source_folder = 'D:/Assignment_Ruchita_Bhosale'\n",
    "target_folder = 'D:/Downloads'\n",
    "file_extension = '.pdf'  # Specify the desired file extension\n",
    "\n",
    "os.makedirs(target_folder, exist_ok=True)\n",
    "shutil.copytree(source_folder, target_folder, dirs_exist_ok=True, ignore=shutil.ignore_patterns(f'*{file_extension}'))\n"
   ]
  }
 ],
 "metadata": {
  "kernelspec": {
   "display_name": "Python 3",
   "language": "python",
   "name": "python3"
  },
  "language_info": {
   "codemirror_mode": {
    "name": "ipython",
    "version": 3
   },
   "file_extension": ".py",
   "mimetype": "text/x-python",
   "name": "python",
   "nbconvert_exporter": "python",
   "pygments_lexer": "ipython3",
   "version": "3.8.2"
  },
  "orig_nbformat": 4
 },
 "nbformat": 4,
 "nbformat_minor": 2
}
