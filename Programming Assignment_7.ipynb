{
 "cells": [
  {
   "cell_type": "code",
   "execution_count": 4,
   "metadata": {},
   "outputs": [
    {
     "name": "stdout",
     "output_type": "stream",
     "text": [
      "The sum of the array is: 38\n"
     ]
    }
   ],
   "source": [
    "#Answer1\n",
    "def calculate_array_sum(arr):\n",
    "    sum = 0\n",
    "    for num in arr:\n",
    "        sum += num\n",
    "    return sum\n",
    "\n",
    "numbers = input(\"Enter the numbers in the array (space-separated): \").split()\n",
    "numbers = [int(num) for num in numbers]\n",
    "\n",
    "array_sum = calculate_array_sum(numbers)\n",
    "print(\"The sum of the array is:\", array_sum)\n"
   ]
  },
  {
   "cell_type": "code",
   "execution_count": 5,
   "metadata": {},
   "outputs": [
    {
     "name": "stdout",
     "output_type": "stream",
     "text": [
      "The largest element in the array is: 98\n"
     ]
    }
   ],
   "source": [
    "#Answer2\n",
    "def find_largest_element(arr):\n",
    "    largest = arr[0]\n",
    "    for num in arr:\n",
    "        if num > largest:\n",
    "            largest = num\n",
    "    return largest\n",
    "\n",
    "numbers = input(\"Enter the numbers in the array (space-separated): \").split()\n",
    "numbers = [int(num) for num in numbers]\n",
    "\n",
    "largest_element = find_largest_element(numbers)\n",
    "\n",
    "print(\"The largest element in the array is:\", largest_element)\n"
   ]
  },
  {
   "cell_type": "code",
   "execution_count": 6,
   "metadata": {},
   "outputs": [
    {
     "name": "stdout",
     "output_type": "stream",
     "text": [
      "Rotated array: [4, 5, 6, 7, 8, 9, 1, 2, 3]\n"
     ]
    }
   ],
   "source": [
    "#Answer3\n",
    "def rotate_array(arr,k):  # k is number of rotation to be performed and arr is array to be rotated\n",
    "    rotate_arr = arr[k:] + arr[:k]\n",
    "    return rotate_arr\n",
    "\n",
    "numbers = input(\"Enter the numbers in the array (space-separated): \").split()\n",
    "numbers = [int(num) for num in numbers]\n",
    "rotation_count = int(input(\"Enter the number of rotations: \"))\n",
    "\n",
    "rotated_array = rotate_array(numbers, rotation_count)\n",
    "\n",
    "print(\"Rotated array:\", rotated_array)\n",
    "\n"
   ]
  },
  {
   "cell_type": "code",
   "execution_count": 8,
   "metadata": {},
   "outputs": [
    {
     "name": "stdout",
     "output_type": "stream",
     "text": [
      "Array after splitting and adding: [5, 6, 7, 8, 1, 2, 3, 4]\n"
     ]
    }
   ],
   "source": [
    "#Answer4\n",
    "\n",
    "def split_and_add(arr,n):\n",
    "    if n <= 0 or n >= len(arr):\n",
    "        return arr\n",
    "    firt_part = arr[:n]\n",
    "    second_part = arr[n:]\n",
    "    rotated_arr = second_part + firt_part\n",
    "    return rotated_arr\n",
    "\n",
    "numbers = input(\"Enter the numbers in the array (space-separated): \").split()\n",
    "numbers = [int(num) for num in numbers]\n",
    "split_index = int(input(\"Enter the split index: \"))\n",
    "\n",
    "result = split_and_add(numbers, split_index)\n",
    "print(\"Array after splitting and adding:\", result)"
   ]
  },
  {
   "cell_type": "code",
   "execution_count": 9,
   "metadata": {},
   "outputs": [
    {
     "name": "stdout",
     "output_type": "stream",
     "text": [
      "The array is monotonic.\n"
     ]
    }
   ],
   "source": [
    "#Answer5\n",
    "\n",
    "def is_monotonic(arr):\n",
    "    increasing = decreasing = True\n",
    "\n",
    "    for i in range(1, len(arr)):\n",
    "        if arr[i] > arr[i-1]:\n",
    "            decreasing = False\n",
    "        if arr[i] < arr[i-1]:\n",
    "            increasing = False\n",
    "\n",
    "    return increasing or decreasing\n",
    "\n",
    "numbers = input(\"Enter the numbers in the array (space-separated): \").split()\n",
    "numbers = [int(num) for num in numbers]\n",
    "\n",
    "is_monotonic = is_monotonic(numbers)\n",
    "\n",
    "if is_monotonic:\n",
    "    print(\"The array is monotonic.\")\n",
    "else:\n",
    "    print(\"The array is not monotonic.\")\n"
   ]
  },
  {
   "cell_type": "code",
   "execution_count": null,
   "metadata": {},
   "outputs": [],
   "source": []
  }
 ],
 "metadata": {
  "kernelspec": {
   "display_name": "base",
   "language": "python",
   "name": "python3"
  },
  "language_info": {
   "codemirror_mode": {
    "name": "ipython",
    "version": 3
   },
   "file_extension": ".py",
   "mimetype": "text/x-python",
   "name": "python",
   "nbconvert_exporter": "python",
   "pygments_lexer": "ipython3",
   "version": "3.10.9"
  },
  "orig_nbformat": 4
 },
 "nbformat": 4,
 "nbformat_minor": 2
}
