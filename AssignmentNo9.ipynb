{
 "cells": [
  {
   "attachments": {},
   "cell_type": "markdown",
   "metadata": {},
   "source": [
    "Answer1-->\n",
    "A relative path refers to the path of a file or directory relative to the current working directory or another specified base directory. It specifies the location of a file or directory based on its position in relation to the current directory "
   ]
  },
  {
   "attachments": {},
   "cell_type": "markdown",
   "metadata": {},
   "source": [
    "Answer2-->\n",
    "The root directory is the highest level directory in a file system hierarchy. It serves as the starting point for navigating the entire file system. The specific notation for the root directory depends on the operating system\n",
    "\n",
    "C:\\Users\\user\\Documents\\readme.txt\" is an absolute path in Windows.\n",
    "\n"
   ]
  },
  {
   "attachments": {},
   "cell_type": "markdown",
   "metadata": {},
   "source": [
    "Answer3-->\n",
    "os.getcwd(): This function returns the current working directory (CWD) as a string. The current working directory refers to the directory from which the Python script or program is currently being executed.\n",
    "\n",
    "os.chdir(path): This function changes the current working directory to the specified path. It allows you to navigate and switch to a different directory within the file system.\n",
    "Example usage:"
   ]
  },
  {
   "attachments": {},
   "cell_type": "markdown",
   "metadata": {},
   "source": [
    "Answer4-->\n",
    "\n",
    ". (dot): The dot represents the current directory. It is used to refer to the directory you are currently in. For example, if you are in the directory /home/user/documents, the . refers to /home/user/documents itself.\n",
    "\n",
    ".. (dot-dot): The dot-dot represents the parent directory. It is used to refer to the directory one level above the current directory. For example, if you are in the directory /home/user/documents, the .. refers to the directory /home/user."
   ]
  },
  {
   "attachments": {},
   "cell_type": "markdown",
   "metadata": {},
   "source": [
    "Answer5-->\n",
    "The directory name (dir name) refers to the path of the containing directory. In this case, the directory name is \"C:\\bacon\\eggs\".\n",
    "\n",
    "The base name refers to the name of the file or the last component of the path. In this case, the base name is \"spam.txt\"\n"
   ]
  },
  {
   "attachments": {},
   "cell_type": "markdown",
   "metadata": {},
   "source": [
    "Answer6-->"
   ]
  },
  {
   "cell_type": "code",
   "execution_count": null,
   "metadata": {
    "vscode": {
     "languageId": "plaintext"
    }
   },
   "outputs": [],
   "source": [
    "# Read Mode\n",
    "file = open(\"example.txt\", \"r\")\n",
    "content = file.read()\n",
    "print(content)\n",
    "file.close()\n",
    "\n",
    "# Write Mode\n",
    "file = open(\"example.txt\", \"w\")\n",
    "file.write(\"Hello, World!\")\n",
    "file.close()\n",
    "\n",
    "# Append Mode\n",
    "file = open(\"example.txt\", \"a\")\n",
    "file.write(\"\\nAppending more text.\")\n",
    "file.close()\n"
   ]
  },
  {
   "attachments": {},
   "cell_type": "markdown",
   "metadata": {},
   "source": [
    "Answer7-->\n",
    "If the file exists: Opening the file in write mode will truncate its content, meaning that the existing content of the file will be deleted and the file will be empty. The file pointer is positioned at the beginning of the file, ready for writing.\n",
    "\n",
    "If the file does not exist: Opening the file in write mode will create a new file with the specified name. If the directory path for the file does not exist, it will raise a FileNotFoundError."
   ]
  },
  {
   "attachments": {},
   "cell_type": "markdown",
   "metadata": {},
   "source": [
    "Answer8-->\n",
    " The read() method reads the entire content of a file as a single string. It reads from the current position of the file pointer until the end of the file. If no size argument is provided, it will read the entire file\n",
    "\n",
    " The readlines() method reads the contents of a file line by line and returns a list where each element corresponds to a line of text from the file. Each line includes the newline character ('\\n') at the end"
   ]
  },
  {
   "attachments": {},
   "cell_type": "markdown",
   "metadata": {},
   "source": [
    "Answer9-->A shelf value in Python, specifically referring to the shelve module, resembles a dictionary-like data structure.A shelf object acts as a persistent dictionary where keys are strings and values can be any picklable object.It allows you to store and retrieve data between program executions, preserving the state of objects."
   ]
  }
 ],
 "metadata": {
  "language_info": {
   "name": "python"
  },
  "orig_nbformat": 4
 },
 "nbformat": 4,
 "nbformat_minor": 2
}
