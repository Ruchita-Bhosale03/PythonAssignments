{
 "cells": [
  {
   "attachments": {},
   "cell_type": "markdown",
   "metadata": {},
   "source": [
    "Answer1-->\n",
    "In python, def defined functions are commonly used because of their simplicity. The def defined functions do not return anything if not explicitly returned whereas the lambda function does return an object. The def functions must be declared in the namespace. The def functions can perform any python task including multiple conditions, nested conditions or loops of any level, printing, importing libraries, raising Exceptions, etc. \n",
    "\n",
    "\n",
    "The lambda functions can be used without any declaration in the namespace. The lambda functions defined above are like single-line functions. These functions do not have parenthesis like the def defined functions but instead, take parameters after the lambda keyword as shown above. There is no return keyword defined explicitly because the lambda function does return an object by default."
   ]
  },
  {
   "attachments": {},
   "cell_type": "markdown",
   "metadata": {},
   "source": [
    "Answer2-->\n",
    "Lambda helps you use a function only once, and hence, avoids cluttering up the code with function definitions. In short, Python's lambda keyword lets you define a function in a single line of code and use it immediately."
   ]
  },
  {
   "attachments": {},
   "cell_type": "markdown",
   "metadata": {},
   "source": [
    "Answer3-->\n",
    "map(): Expects a function that takes one argument and returns a transformed value for each element in the iterable.\n",
    "filter(): Expects a function that takes one argument and returns a Boolean value indicating whether the element should be included in the filtered result.\n",
    "reduce(): Expects a function that takes two arguments and returns a single value, which is applied cumulatively to the elements of the iterable.\n",
    "\n",
    "map(), filter(), and reduce() can work with any iterable, including lists, tuples, sets, and strings.\n",
    "\n",
    "map(): Returns an iterator with the same number of elements as the input iterable, where each element is the result of applying the given function to the corresponding element in the input iterable.\n",
    "filter(): Returns an iterator with fewer or equal number of elements compared to the input iterable, containing only the elements that satisfy the filtering function.\n",
    "reduce(): Returns a single value that represents the cumulative result of applying the given function to the elements of the iterable."
   ]
  },
  {
   "attachments": {},
   "cell_type": "markdown",
   "metadata": {},
   "source": [
    "Answer4-->\n",
    "Function annotations in Python are a way to associate arbitrary metadata, including type hints, with the parameters and return value of a function. They provide a way to add additional information about the function's intended usage, without affecting its runtime behavior.\n",
    "\n",
    "Function annotations are specified by placing expressions or literals after the parameter or return value declaration in the function's definition. They are optional and do not affect the execution of the function.\n",
    "\n",
    "def greet(name: str, age: int) -> str:\n",
    "    return f\"Hello, {name}! You are {age} years old.\"\n"
   ]
  },
  {
   "attachments": {},
   "cell_type": "markdown",
   "metadata": {},
   "source": [
    "Answer5-->\n",
    "Recursive functions are functions that call themselves during their execution. They are a powerful programming technique used to solve problems that can be broken down into smaller, similar subproblems."
   ]
  },
  {
   "cell_type": "code",
   "execution_count": 1,
   "metadata": {},
   "outputs": [],
   "source": [
    "def factorial(n):\n",
    "    # Base case: factorial of 0 or 1 is 1\n",
    "    if n == 0 or n == 1:\n",
    "        return 1\n",
    "    # Recursive case: multiply n by factorial of n-1\n",
    "    else:\n",
    "        return n * factorial(n-1)\n"
   ]
  },
  {
   "attachments": {},
   "cell_type": "markdown",
   "metadata": {},
   "source": [
    "Answer6-->\n",
    "Choose meaningful and descriptive names for functions.\n",
    "Keep functions focused and concise.\n",
    "Limit the number of function parameters.\n",
    "Use default parameter values when appropriate.\n",
    "Clearly define and document expected return values.\n",
    "Avoid modifying mutable objects and prefer returning results instead.\n",
    "Use explicit return statements."
   ]
  },
  {
   "attachments": {},
   "cell_type": "markdown",
   "metadata": {},
   "source": [
    "Answer7-->\n",
    "Return statement: Functions can use return to send back a value or values as the result.\n",
    "Modifying mutable objects: Functions can modify passed objects, and the caller can access the updated values.\n",
    "Global variables: Functions can modify global variables, allowing the caller to access the updated values."
   ]
  },
  {
   "cell_type": "code",
   "execution_count": null,
   "metadata": {},
   "outputs": [],
   "source": []
  }
 ],
 "metadata": {
  "kernelspec": {
   "display_name": "base",
   "language": "python",
   "name": "python3"
  },
  "language_info": {
   "codemirror_mode": {
    "name": "ipython",
    "version": 3
   },
   "file_extension": ".py",
   "mimetype": "text/x-python",
   "name": "python",
   "nbconvert_exporter": "python",
   "pygments_lexer": "ipython3",
   "version": "3.10.9"
  },
  "orig_nbformat": 4
 },
 "nbformat": 4,
 "nbformat_minor": 2
}
