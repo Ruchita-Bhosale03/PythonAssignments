{
 "cells": [
  {
   "cell_type": "code",
   "execution_count": 1,
   "metadata": {},
   "outputs": [
    {
     "name": "stdout",
     "output_type": "stream",
     "text": [
      "0\n",
      "30\n",
      "18\n"
     ]
    }
   ],
   "source": [
    "#Answer1\n",
    "def evenly_divisible(a, b, c):\n",
    "    sum_divisible = 0\n",
    "    for num in range(a, b+1):\n",
    "        if num % c == 0:\n",
    "            sum_divisible += num\n",
    "    return sum_divisible\n",
    "\n",
    "# Examples\n",
    "print(evenly_divisible(1, 10, 20))   \n",
    "print(evenly_divisible(1, 10, 2))    \n",
    "print(evenly_divisible(1, 10, 3))\n"
   ]
  },
  {
   "cell_type": "code",
   "execution_count": 2,
   "metadata": {},
   "outputs": [
    {
     "name": "stdout",
     "output_type": "stream",
     "text": [
      "True\n",
      "False\n",
      "True\n"
     ]
    }
   ],
   "source": [
    "#Answer2\n",
    "def correct_signs(expression):\n",
    "    return eval(expression)\n",
    "\n",
    "print(correct_signs(\"3 < 7 < 11\"))                  \n",
    "print(correct_signs(\"13 > 44 > 33 > 1\"))            \n",
    "print(correct_signs(\"1 < 2 < 6 < 9 > 3\"))           \n"
   ]
  },
  {
   "cell_type": "code",
   "execution_count": 3,
   "metadata": {},
   "outputs": [
    {
     "name": "stdout",
     "output_type": "stream",
     "text": [
      "th# ##rdv#rk\n",
      "m?nn?? m??s?\n",
      "sh*k*sp**r*\n"
     ]
    }
   ],
   "source": [
    "\n",
    "#Answer3\n",
    "def replace_vowels(string, character):\n",
    "    vowels = 'aeiouAEIOU'\n",
    "    replaced_string = ''\n",
    "    for char in string:\n",
    "        if char in vowels:\n",
    "            replaced_string += character\n",
    "        else:\n",
    "            replaced_string += char\n",
    "    return replaced_string\n",
    "\n",
    "print(replace_vowels(\"the aardvark\", \"#\"))     \n",
    "print(replace_vowels(\"minnie mouse\", \"?\"))\n",
    "print(replace_vowels(\"shakespeare\", \"*\"))\n"
   ]
  },
  {
   "cell_type": "code",
   "execution_count": 4,
   "metadata": {},
   "outputs": [
    {
     "name": "stdout",
     "output_type": "stream",
     "text": [
      "120\n",
      "5040\n",
      "1\n",
      "1\n"
     ]
    }
   ],
   "source": [
    "#Answer4\n",
    "def factorial(n):\n",
    "    if n == 0 or n == 1:\n",
    "        return 1\n",
    "    else:\n",
    "        return n * factorial(n-1)\n",
    "    \n",
    "print(factorial(5))\n",
    "print(factorial(7))\n",
    "print(factorial(0))\n",
    "print(factorial(1))"
   ]
  },
  {
   "cell_type": "code",
   "execution_count": 5,
   "metadata": {},
   "outputs": [
    {
     "name": "stdout",
     "output_type": "stream",
     "text": [
      "1\n"
     ]
    }
   ],
   "source": [
    "#Answer5\n",
    "def hamming_distance(str1, str2):\n",
    "    if len(str1) != len(str2):\n",
    "        raise ValueError(\"The two strings must have equal length.\")\n",
    "    \n",
    "    distance = 0\n",
    "    for i in range(len(str1)):\n",
    "        if str1[i] != str2[i]:\n",
    "            distance += 1\n",
    "    \n",
    "    return distance\n",
    "\n",
    "string1 = \"abcbba\"\n",
    "string2 = \"abcbda\"\n",
    "distance = hamming_distance(string1, string2)\n",
    "print(distance)  "
   ]
  },
  {
   "cell_type": "code",
   "execution_count": 6,
   "metadata": {},
   "outputs": [
    {
     "name": "stdout",
     "output_type": "stream",
     "text": [
      "5\n",
      "0\n",
      "1\n"
     ]
    }
   ],
   "source": [
    "#Answer4\n",
    "def hamming_distance(str1, str2):\n",
    "    if len(str1) != len(str2):\n",
    "        raise ValueError(\"The two strings must have equal length.\")\n",
    "    \n",
    "    distance = sum(ch1 != ch2 for ch1, ch2 in zip(str1, str2))\n",
    "    return distance\n",
    "\n",
    "# Examples\n",
    "print(hamming_distance(\"abcde\", \"bcdef\"))    \n",
    "print(hamming_distance(\"abcde\", \"abcde\"))    \n",
    "print(hamming_distance(\"strong\", \"strung\"))  \n"
   ]
  },
  {
   "cell_type": "code",
   "execution_count": null,
   "metadata": {},
   "outputs": [],
   "source": []
  }
 ],
 "metadata": {
  "kernelspec": {
   "display_name": "Python 3",
   "language": "python",
   "name": "python3"
  },
  "language_info": {
   "codemirror_mode": {
    "name": "ipython",
    "version": 3
   },
   "file_extension": ".py",
   "mimetype": "text/x-python",
   "name": "python",
   "nbconvert_exporter": "python",
   "pygments_lexer": "ipython3",
   "version": "3.8.2"
  },
  "orig_nbformat": 4
 },
 "nbformat": 4,
 "nbformat_minor": 2
}
