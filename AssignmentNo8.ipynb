{
 "cells": [
  {
   "attachments": {},
   "cell_type": "markdown",
   "metadata": {},
   "source": [
    "Answer1-->PyInputPlus is not part of the Python Standard Library and needs to be installed separately. It is a third-party library designed to simplify user input validation and handling in Python. You can install PyInputPlus using  pip install PyInputPlus."
   ]
  },
  {
   "attachments": {},
   "cell_type": "markdown",
   "metadata": {},
   "source": [
    "Answer2-->By importing PyInputPlus as pypi, you can access its functions and classes using the pypi prefix instead of typing out the full name pyinputplus. This can save typing effort, especially when using PyInputPlus functions and classes multiple times.PyInputPlus is commonly imported with the alias pypi."
   ]
  },
  {
   "attachments": {},
   "cell_type": "markdown",
   "metadata": {},
   "source": [
    "Answer3-->\n",
    "inputInt(): This function is used to prompt the user for an integer input. It validates the user's input to ensure it is a valid integer value. If the user enters a non-integer value, an error message is displayed, and the user is prompted to enter a valid integer.\n",
    "\n",
    "import pyinputplus as pypi\n",
    "\n",
    "age = pypi.inputInt(\"Enter your age: \")\n",
    "\n",
    "\n",
    "inputFloat(): This function is used to prompt the user for a floating-point number input. It validates the user's input to ensure it is a valid floating-point value. If the user enters a non-floating-point value, an error message is displayed, and the user is prompted to enter a valid floating-point number.\n",
    "\n",
    "import pyinputplus as pypi\n",
    "\n",
    "temperature = pypi.inputFloat(\"Enter the temperature: \")"
   ]
  },
  {
   "attachments": {},
   "cell_type": "markdown",
   "metadata": {},
   "source": [
    "Answer4-->To ensure that the user enters a whole number between 0 and 99 using PyInputPlus, you can utilize the inputInt() function along with the min and max arguments."
   ]
  },
  {
   "attachments": {},
   "cell_type": "markdown",
   "metadata": {},
   "source": [
    "Answwer5-->allowRegexes: This keyword argument accepts a list of regular expression patterns. If provided, PyInputPlus will only accept input that matches one of the specified patterns\n",
    "\n",
    "import pyinputplus as pypi\n",
    "\n",
    "number = pypi.inputNum(\"Enter a number: \", allowRegexes=[r'^[1-9]\\d*$'])"
   ]
  },
  {
   "attachments": {},
   "cell_type": "markdown",
   "metadata": {},
   "source": [
    "blockRegexes: This keyword argument accepts a list of regular expression patterns. If provided, PyInputPlus will reject input that matches any of the specified patterns.\n",
    "\n",
    "import pyinputplus as pypi\n",
    "\n",
    "name = pypi.inputStr(\"Enter your name: \", blockRegexes=[r'\\d'])"
   ]
  },
  {
   "attachments": {},
   "cell_type": "markdown",
   "metadata": {},
   "source": [
    "Answer6-->\n",
    "If a blank input is entered three times when using inputStr(limit=3) in PyInputPlus, the function will raise a ValidationException.\n",
    " In this case, if the user enters a blank input three times consecutively, indicating a failure to provide valid input within the given attempts, PyInputPlus will raise a ValidationException to indicate that the limit has been reached.\n"
   ]
  },
  {
   "attachments": {},
   "cell_type": "markdown",
   "metadata": {},
   "source": [
    "Answer7-->The limit parameter in inputStr(limit=3, default='hello') specifies the maximum number of attempts allowed before the function stops accepting input. However, if the user enters a blank input within the given attempts, PyInputPlus will return the provided default value ('hello' in this case) instead of raising a ValidationException.\n"
   ]
  }
 ],
 "metadata": {
  "kernelspec": {
   "display_name": "Python 3",
   "language": "python",
   "name": "python3"
  },
  "language_info": {
   "codemirror_mode": {
    "name": "ipython",
    "version": 3
   },
   "file_extension": ".py",
   "mimetype": "text/x-python",
   "name": "python",
   "nbconvert_exporter": "python",
   "pygments_lexer": "ipython3",
   "version": "3.8.2"
  },
  "orig_nbformat": 4
 },
 "nbformat": 4,
 "nbformat_minor": 2
}
