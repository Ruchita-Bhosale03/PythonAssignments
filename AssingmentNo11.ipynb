{
 "cells": [
  {
   "attachments": {},
   "cell_type": "markdown",
   "metadata": {},
   "source": [
    "Answer1-->"
   ]
  },
  {
   "cell_type": "code",
   "execution_count": 1,
   "metadata": {},
   "outputs": [
    {
     "ename": "AssertionError",
     "evalue": "spam cannot be a negative integer",
     "output_type": "error",
     "traceback": [
      "\u001b[1;31m---------------------------------------------------------------------------\u001b[0m",
      "\u001b[1;31mAssertionError\u001b[0m                            Traceback (most recent call last)",
      "Cell \u001b[1;32mIn[1], line 3\u001b[0m\n\u001b[0;32m      1\u001b[0m spam \u001b[39m=\u001b[39m \u001b[39m-\u001b[39m\u001b[39m5\u001b[39m\n\u001b[1;32m----> 3\u001b[0m \u001b[39massert\u001b[39;00m spam \u001b[39m>\u001b[39m\u001b[39m=\u001b[39m \u001b[39m0\u001b[39m, \u001b[39m\"\u001b[39m\u001b[39mspam cannot be a negative integer\u001b[39m\u001b[39m\"\u001b[39m\n\u001b[0;32m      5\u001b[0m \u001b[39mprint\u001b[39m(\u001b[39m\"\u001b[39m\u001b[39mThe value of spam is:\u001b[39m\u001b[39m\"\u001b[39m, spam)\n",
      "\u001b[1;31mAssertionError\u001b[0m: spam cannot be a negative integer"
     ]
    }
   ],
   "source": [
    "spam = -5\n",
    "\n",
    "assert spam >= 0, \"spam cannot be a negative integer\"\n",
    "\n",
    "print(\"The value of spam is:\", spam)"
   ]
  },
  {
   "attachments": {},
   "cell_type": "markdown",
   "metadata": {},
   "source": [
    "Answer2-->"
   ]
  },
  {
   "cell_type": "code",
   "execution_count": 7,
   "metadata": {},
   "outputs": [
    {
     "ename": "AssertionError",
     "evalue": "eggs and bacon cannot have the same value",
     "output_type": "error",
     "traceback": [
      "\u001b[1;31m---------------------------------------------------------------------------\u001b[0m",
      "\u001b[1;31mAssertionError\u001b[0m                            Traceback (most recent call last)",
      "Cell \u001b[1;32mIn[7], line 4\u001b[0m\n\u001b[0;32m      1\u001b[0m eggs\u001b[39m=\u001b[39m \u001b[39m\"\u001b[39m\u001b[39mIts not raining\u001b[39m\u001b[39m\"\u001b[39m\n\u001b[0;32m      2\u001b[0m bacon \u001b[39m=\u001b[39m \u001b[39m\"\u001b[39m\u001b[39mITS NOT Raining\u001b[39m\u001b[39m\"\u001b[39m\n\u001b[1;32m----> 4\u001b[0m \u001b[39massert\u001b[39;00m eggs\u001b[39m.\u001b[39mlower() \u001b[39m!=\u001b[39m bacon\u001b[39m.\u001b[39mlower(), \u001b[39m\"\u001b[39m\u001b[39meggs and bacon cannot have the same value\u001b[39m\u001b[39m\"\u001b[39m\n",
      "\u001b[1;31mAssertionError\u001b[0m: eggs and bacon cannot have the same value"
     ]
    }
   ],
   "source": [
    "eggs= \"Its not raining\"\n",
    "bacon = \"ITS NOT Raining\"\n",
    "\n",
    "assert eggs.lower() != bacon.lower(), \"eggs and bacon cannot have the same value\"\n",
    "\n"
   ]
  },
  {
   "attachments": {},
   "cell_type": "markdown",
   "metadata": {},
   "source": [
    "Answer3-->"
   ]
  },
  {
   "cell_type": "code",
   "execution_count": 9,
   "metadata": {},
   "outputs": [
    {
     "ename": "AssertionError",
     "evalue": "This assert statement always throws an AssertionError",
     "output_type": "error",
     "traceback": [
      "\u001b[1;31m---------------------------------------------------------------------------\u001b[0m",
      "\u001b[1;31mAssertionError\u001b[0m                            Traceback (most recent call last)",
      "Cell \u001b[1;32mIn[9], line 1\u001b[0m\n\u001b[1;32m----> 1\u001b[0m \u001b[39massert\u001b[39;00m \u001b[39mFalse\u001b[39;00m, \u001b[39m\"\u001b[39m\u001b[39mThis assert statement always throws an AssertionError\u001b[39m\u001b[39m\"\u001b[39m\n",
      "\u001b[1;31mAssertionError\u001b[0m: This assert statement always throws an AssertionError"
     ]
    }
   ],
   "source": [
    "assert False, \"This assert statement always throws an AssertionError\""
   ]
  },
  {
   "attachments": {},
   "cell_type": "markdown",
   "metadata": {},
   "source": [
    "Answer4-->\n",
    "import logging\n",
    "\n",
    "logging.basicConfig(level=logging.DEBUG)"
   ]
  },
  {
   "attachments": {},
   "cell_type": "markdown",
   "metadata": {},
   "source": [
    "Answer5-->\n",
    "import logging\n",
    "\n",
    "logging.basicConfig(filename='programLog.txt', level=logging.DEBUG)\n"
   ]
  },
  {
   "attachments": {},
   "cell_type": "markdown",
   "metadata": {},
   "source": [
    "Answer6-->\n",
    "1 DEBUG: The lowest level of logging used for detailed information during development or debugging. It provides the most detailed logging information.\n",
    "\n",
    "2 INFO: Used to confirm that things are working as expected. It provides general information about the progress and execution of the program.\n",
    "\n",
    "3 WARNING: Indicates potential issues or situations that may cause problems but are not critical. It is typically used to alert about certain conditions that may require attention.\n",
    "\n",
    "4 ERROR: Indicates errors that caused a particular operation to fail but did not halt the overall program execution. These errors may impact the program's functionality but are not fatal.\n",
    "\n",
    "5 CRITICAL: The highest level of logging used to indicate critical errors or issues that may cause the program to terminate. These errors represent severe failures that require immediate attention"
   ]
  },
  {
   "attachments": {},
   "cell_type": "markdown",
   "metadata": {},
   "source": [
    "Answer7-->\n",
    "logging.disable(logging.CRITICAL)"
   ]
  },
  {
   "attachments": {},
   "cell_type": "markdown",
   "metadata": {},
   "source": [
    "Answer8-->\n",
    "Using the logging module over print() statements provides more control, flexibility, and maintainability in managing and analyzing logs, making it a preferred choice for logging in Python applications."
   ]
  },
  {
   "attachments": {},
   "cell_type": "markdown",
   "metadata": {},
   "source": [
    "Answer9-->\n",
    "Step Over: the Step Over button allows you to execute the current line and skip over the details of any function calls, treating them as a single unit.\n",
    "\n",
    "Step In: The Step In button is useful when you want to dive into the details of a function and debug it line by line.\n",
    "\n",
    "Step Out: The Step Out button is used to execute the remaining lines of the current function and return to the line that called the function"
   ]
  },
  {
   "attachments": {},
   "cell_type": "markdown",
   "metadata": {},
   "source": [
    "Answer10-->\n",
    "\n",
    "Breakpoint: If a breakpoint is set at a specific line of code, the debugger will stop when the execution reaches that line\n",
    "\n",
    "Exception: If an unhandled exception occurs during the program's execution, the debugger will stop at the line where the exception was raised.\n",
    "\n",
    "Program completion: The debugger will also stop when the program's execution completes successfully.\n"
   ]
  },
  {
   "attachments": {},
   "cell_type": "markdown",
   "metadata": {},
   "source": [
    "Answer11-->\n",
    "Breakpoint: If a breakpoint is set at a specific line of code, the debugger will stop when the execution reaches that line. Breakpoints allow you to pause the execution and examine the program's state at a specific point in the code."
   ]
  },
  {
   "cell_type": "code",
   "execution_count": null,
   "metadata": {},
   "outputs": [],
   "source": []
  }
 ],
 "metadata": {
  "kernelspec": {
   "display_name": "Python 3",
   "language": "python",
   "name": "python3"
  },
  "language_info": {
   "codemirror_mode": {
    "name": "ipython",
    "version": 3
   },
   "file_extension": ".py",
   "mimetype": "text/x-python",
   "name": "python",
   "nbconvert_exporter": "python",
   "pygments_lexer": "ipython3",
   "version": "3.8.2"
  },
  "orig_nbformat": 4
 },
 "nbformat": 4,
 "nbformat_minor": 2
}
