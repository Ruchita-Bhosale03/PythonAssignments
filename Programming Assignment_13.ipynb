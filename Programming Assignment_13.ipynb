{
 "cells": [
  {
   "cell_type": "code",
   "execution_count": 6,
   "metadata": {},
   "outputs": [
    {
     "name": "stdout",
     "output_type": "stream",
     "text": [
      "The output of the program is: 5,5,6\n"
     ]
    }
   ],
   "source": [
    "#Answer1\n",
    "import math\n",
    "\n",
    "C = 50\n",
    "H = 30\n",
    "\n",
    "D_values = input(\"Enter the values of D (comma-separated): \").split(',')\n",
    "\n",
    "output_values = []\n",
    "for D in D_values:\n",
    "    Q = math.sqrt((2 * C * int(D)) / H)\n",
    "    output_values.append(str(round(Q)))\n",
    "\n",
    "output_str = \",\".join(output_values)\n",
    "print(\"The output of the program is:\", output_str)\n"
   ]
  },
  {
   "cell_type": "code",
   "execution_count": 7,
   "metadata": {},
   "outputs": [
    {
     "name": "stdout",
     "output_type": "stream",
     "text": [
      "The generated 2-dimensional array:\n",
      "[0, 0, 0, 0, 0]\n",
      "[0, 1, 2, 3, 4]\n",
      "[0, 2, 4, 6, 8]\n"
     ]
    }
   ],
   "source": [
    "#Answer2\n",
    "\n",
    "X, Y = map(int, input(\"Enter two digits (comma-separated): \").split(','))\n",
    "\n",
    "# Generate the 2-dimensional array\n",
    "array = [[i * j for j in range(Y)] for i in range(X)]\n",
    "\n",
    "print(\"The generated 2-dimensional array:\")\n",
    "for row in array:\n",
    "    print(row)\n"
   ]
  },
  {
   "cell_type": "code",
   "execution_count": 8,
   "metadata": {},
   "outputs": [
    {
     "name": "stdout",
     "output_type": "stream",
     "text": [
      "The sorted words:  bag,hello,without,world\n"
     ]
    }
   ],
   "source": [
    "#Answer3\n",
    "word_sequence = input(\"Enter a comma-separated sequence of words: \")\n",
    "\n",
    "words = sorted(word_sequence.split(','))\n",
    "\n",
    "sorted_sequence = ','.join(words)\n",
    "print(\"The sorted words: \", sorted_sequence)\n"
   ]
  },
  {
   "cell_type": "code",
   "execution_count": 11,
   "metadata": {},
   "outputs": [
    {
     "name": "stdout",
     "output_type": "stream",
     "text": [
      "Sorted words: again and hello makes perfect practice world\n"
     ]
    }
   ],
   "source": [
    "#Answer4\n",
    "\n",
    "word_sequence = input(\"Enter a sequence of whitespace-separated words: \")\n",
    "\n",
    "# Split the words, remove duplicates, and sort them alphanumerically\n",
    "words = sorted(set(word_sequence.split()))\n",
    "\n",
    "print(\"Sorted words:\", ' '.join(words))"
   ]
  },
  {
   "cell_type": "code",
   "execution_count": 14,
   "metadata": {},
   "outputs": [
    {
     "name": "stdout",
     "output_type": "stream",
     "text": [
      " letters: 10\n",
      " digits: 3\n"
     ]
    }
   ],
   "source": [
    "#Answer5\n",
    "\n",
    "sentence = input(\"Enter a sentence: \")\n",
    "\n",
    "letter_count = 0\n",
    "digit_count = 0\n",
    "\n",
    "# Iterate over each character in the sentence\n",
    "for char in sentence:\n",
    "    # Check if the character is a letter\n",
    "    if char.isalpha():\n",
    "        letter_count += 1\n",
    "    # Check if the character is a digit\n",
    "    elif char.isdigit():\n",
    "        digit_count += 1\n",
    "\n",
    "print(\" letters:\", letter_count)\n",
    "print(\" digits:\", digit_count)\n"
   ]
  },
  {
   "cell_type": "code",
   "execution_count": 15,
   "metadata": {},
   "outputs": [
    {
     "name": "stdout",
     "output_type": "stream",
     "text": [
      "Valid passwords: ABd1234@1\n"
     ]
    }
   ],
   "source": [
    "#Answer6\n",
    "# Input the sequence of comma-separated passwords\n",
    "passwords = input(\"Enter a sequence of comma-separated passwords: \").split(',')\n",
    "\n",
    "# List to store valid passwords\n",
    "valid_passwords = []\n",
    "\n",
    "# Check each password for validity\n",
    "for password in passwords:\n",
    "    has_lowercase = False\n",
    "    has_uppercase = False\n",
    "    has_digit = False\n",
    "    has_special_char = False\n",
    "\n",
    "    if len(password) >= 6 and len(password) <= 12:\n",
    "        for char in password:\n",
    "            if char.islower():\n",
    "                has_lowercase = True\n",
    "            elif char.isupper():\n",
    "                has_uppercase = True\n",
    "            elif char.isdigit():\n",
    "                has_digit = True\n",
    "            elif char in '$#@':\n",
    "                has_special_char = True\n",
    "\n",
    "    if has_lowercase and has_uppercase and has_digit and has_special_char:\n",
    "        valid_passwords.append(password)\n",
    "\n",
    "# Print the valid passwords separated by commas\n",
    "print(\"Valid passwords:\", ', '.join(valid_passwords))\n"
   ]
  },
  {
   "cell_type": "code",
   "execution_count": null,
   "metadata": {},
   "outputs": [],
   "source": []
  }
 ],
 "metadata": {
  "kernelspec": {
   "display_name": "base",
   "language": "python",
   "name": "python3"
  },
  "language_info": {
   "codemirror_mode": {
    "name": "ipython",
    "version": 3
   },
   "file_extension": ".py",
   "mimetype": "text/x-python",
   "name": "python",
   "nbconvert_exporter": "python",
   "pygments_lexer": "ipython3",
   "version": "3.10.9"
  },
  "orig_nbformat": 4
 },
 "nbformat": 4,
 "nbformat_minor": 2
}
