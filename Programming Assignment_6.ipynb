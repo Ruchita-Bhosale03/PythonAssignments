{
 "cells": [
  {
   "cell_type": "code",
   "execution_count": 1,
   "metadata": {},
   "outputs": [
    {
     "name": "stdout",
     "output_type": "stream",
     "text": [
      "Fibonaccci sequence:\n",
      "0\n",
      "1\n",
      "1\n",
      "2\n",
      "3\n",
      "5\n",
      "8\n",
      "13\n",
      "21\n",
      "34\n",
      "55\n",
      "89\n"
     ]
    }
   ],
   "source": [
    "#Answer1\n",
    "def fibonacci(n):\n",
    "    if n <= 1:\n",
    "        return n\n",
    "    else: \n",
    "        return fibonacci(n - 1) + fibonacci(n - 2)\n",
    "terms = int(input(\"Enter the number of terms in the Fibonacci sequence: \"))\n",
    "\n",
    "print(\"Fibonaccci sequence:\")\n",
    "\n",
    "for i in range(terms):\n",
    "    print(fibonacci(i))\n",
    "\n",
    "\n"
   ]
  },
  {
   "cell_type": "code",
   "execution_count": 6,
   "metadata": {},
   "outputs": [
    {
     "name": "stdout",
     "output_type": "stream",
     "text": [
      "The factorial of 5 is 120\n"
     ]
    }
   ],
   "source": [
    "#Answer2\n",
    "def factorial(n):\n",
    "    if n == 0:\n",
    "        return 1\n",
    "    else:\n",
    "        return n*factorial(n-1)\n",
    "    \n",
    "number = int(input(\"Enter a number:\"))\n",
    "\n",
    "result = factorial(number)\n",
    "\n",
    "print(f\"The factorial of {number} is {result}\")"
   ]
  },
  {
   "cell_type": "code",
   "execution_count": 10,
   "metadata": {},
   "outputs": [
    {
     "name": "stdout",
     "output_type": "stream",
     "text": [
      "Your Body Mass Index (BMI) is: 16.604274846033086\n"
     ]
    }
   ],
   "source": [
    "#Answer3\n",
    "\n",
    "def calculate_bmi(weight,height):\n",
    "    bmi = weight / (height**2)\n",
    "    return bmi\n",
    "\n",
    "weight = float(input(\"Enter your weight in kilograms: \"))\n",
    "height = float(input(\"Enter your height in meters: \"))\n",
    "\n",
    "bmi = calculate_bmi(weight, height)\n",
    "\n",
    "print(\"Your Body Mass Index (BMI) is:\", bmi)\n",
    "\n"
   ]
  },
  {
   "cell_type": "code",
   "execution_count": 11,
   "metadata": {},
   "outputs": [
    {
     "name": "stdout",
     "output_type": "stream",
     "text": [
      "The natural logarithm of 5.0 is: 1.6094379124341003\n"
     ]
    }
   ],
   "source": [
    "#Answer4\n",
    "import math\n",
    "def calculate_logarithm(number):\n",
    "    logarithm = math.log(number)\n",
    "    return logarithm\n",
    "\n",
    "number = float(input(\"Enter a number:\"))\n",
    "\n",
    "logarithm = calculate_logarithm(number)\n",
    "\n",
    "print(\"The natural logarithm of\", number, \"is:\", logarithm)"
   ]
  },
  {
   "cell_type": "code",
   "execution_count": 12,
   "metadata": {},
   "outputs": [
    {
     "name": "stdout",
     "output_type": "stream",
     "text": [
      "The cube sum of the first 8 natural numbers is: 1296\n"
     ]
    }
   ],
   "source": [
    "#answer5\n",
    "\n",
    "def calculate_cube_sum(n):\n",
    "    sum = 0\n",
    "    for i in range(1,n+1):\n",
    "        sum += i**3\n",
    "    return sum\n",
    "\n",
    "n = int(input(\"Enter the value of n: \"))\n",
    "\n",
    "cube_sum = calculate_cube_sum(n)\n",
    "\n",
    "\n",
    "print(\"The cube sum of the first\", n, \"natural numbers is:\", cube_sum)"
   ]
  }
 ],
 "metadata": {
  "kernelspec": {
   "display_name": "base",
   "language": "python",
   "name": "python3"
  },
  "language_info": {
   "codemirror_mode": {
    "name": "ipython",
    "version": 3
   },
   "file_extension": ".py",
   "mimetype": "text/x-python",
   "name": "python",
   "nbconvert_exporter": "python",
   "pygments_lexer": "ipython3",
   "version": "3.10.9"
  },
  "orig_nbformat": 4
 },
 "nbformat": 4,
 "nbformat_minor": 2
}
