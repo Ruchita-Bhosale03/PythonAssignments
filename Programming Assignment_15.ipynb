{
 "cells": [
  {
   "cell_type": "code",
   "execution_count": 13,
   "metadata": {},
   "outputs": [
    {
     "name": "stdout",
     "output_type": "stream",
     "text": [
      "0,35,70,"
     ]
    }
   ],
   "source": [
    "#Answer1\n",
    "\n",
    "class DivisibilityTest:\n",
    "    def __init__(self, n):\n",
    "        self.n = n\n",
    "\n",
    "    def __iter__(self):\n",
    "        for i in range(self.n + 1):\n",
    "            if i % 7 == 0 and i % 5 == 0:\n",
    "                yield i\n",
    "\n",
    "n = 100\n",
    "\n",
    "generator = DivisibilityTest(n)\n",
    "\n",
    "for number in generator:\n",
    "    print(number, end =\",\")\n"
   ]
  },
  {
   "cell_type": "code",
   "execution_count": 14,
   "metadata": {},
   "outputs": [
    {
     "name": "stdout",
     "output_type": "stream",
     "text": [
      "0,2,4,6,8,10,"
     ]
    }
   ],
   "source": [
    "#Answer2\n",
    "\n",
    "class EvenNumber:\n",
    "    def __init__(self,n):\n",
    "        self.n = n\n",
    "\n",
    "    def __iter__(self):\n",
    "        for i in range(self.n+1):\n",
    "            if i % 2 == 0:\n",
    "                yield i\n",
    "\n",
    "n = 10\n",
    "\n",
    "generator = EvenNumber(n)\n",
    "\n",
    "for number in generator:\n",
    "    print(number, end =\",\")\n",
    "                \n"
   ]
  },
  {
   "cell_type": "code",
   "execution_count": 17,
   "metadata": {},
   "outputs": [
    {
     "name": "stdout",
     "output_type": "stream",
     "text": [
      "0, 1, 1, 2, 3, 5, 8, 13\n"
     ]
    }
   ],
   "source": [
    "#Answer3\n",
    "n = int(input(\"Enter the value of n: \"))\n",
    "\n",
    "fib_sequence = [0, 1]\n",
    "\n",
    "for i in range(2, n + 1):\n",
    "    fib_sequence.append(fib_sequence[i - 1] + fib_sequence[i - 2])\n",
    "\n",
    "fib_sequence_str = \", \".join(str(num) for num in fib_sequence)\n",
    "\n",
    "print(fib_sequence_str)\n",
    "\n",
    "\n"
   ]
  },
  {
   "cell_type": "code",
   "execution_count": 18,
   "metadata": {},
   "outputs": [
    {
     "name": "stdout",
     "output_type": "stream",
     "text": [
      "Username: john\n"
     ]
    }
   ],
   "source": [
    "#Answer4\n",
    "\n",
    "email_address = input(\"Enter an email address: \")\n",
    "\n",
    "# Split the email address at the \"@\" symbol\n",
    "username = email_address.split(\"@\")[0]\n",
    "\n",
    "print(\"Username:\", username)\n"
   ]
  },
  {
   "cell_type": "code",
   "execution_count": 19,
   "metadata": {},
   "outputs": [
    {
     "name": "stdout",
     "output_type": "stream",
     "text": [
      "Shape area: 0\n",
      "Square area: 25\n"
     ]
    }
   ],
   "source": [
    "#Answer5\n",
    "\n",
    "class Shape:\n",
    "    def __init__(self):\n",
    "        pass\n",
    "\n",
    "    def area(self):\n",
    "        return 0\n",
    "\n",
    "\n",
    "class Square(Shape):\n",
    "    def __init__(self, length):\n",
    "        self.length = length\n",
    "\n",
    "    def area(self):\n",
    "        return self.length ** 2\n",
    "\n",
    "shape = Shape()\n",
    "print(\"Shape area:\", shape.area())\n",
    "\n",
    "square = Square(5)\n",
    "print(\"Square area:\", square.area())\n"
   ]
  },
  {
   "cell_type": "code",
   "execution_count": null,
   "metadata": {},
   "outputs": [],
   "source": []
  }
 ],
 "metadata": {
  "kernelspec": {
   "display_name": "base",
   "language": "python",
   "name": "python3"
  },
  "language_info": {
   "codemirror_mode": {
    "name": "ipython",
    "version": 3
   },
   "file_extension": ".py",
   "mimetype": "text/x-python",
   "name": "python",
   "nbconvert_exporter": "python",
   "pygments_lexer": "ipython3",
   "version": "3.10.9"
  },
  "orig_nbformat": 4
 },
 "nbformat": 4,
 "nbformat_minor": 2
}
