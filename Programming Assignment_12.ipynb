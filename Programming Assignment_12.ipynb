{
 "cells": [
  {
   "cell_type": "code",
   "execution_count": 1,
   "metadata": {},
   "outputs": [
    {
     "name": "stdout",
     "output_type": "stream",
     "text": [
      "Unique values: [1, 2, 3, 4]\n"
     ]
    }
   ],
   "source": [
    "#Answer1\n",
    "my_dict = {'a': 1, 'b': 2, 'c': 1, 'd': 3, 'e': 2, 'f': 4}\n",
    "\n",
    "unique_values = list(set(my_dict.values()))\n",
    "\n",
    "print(\"Unique values:\", unique_values)\n"
   ]
  },
  {
   "cell_type": "code",
   "execution_count": 3,
   "metadata": {},
   "outputs": [
    {
     "name": "stdout",
     "output_type": "stream",
     "text": [
      "sum of values of dict: 13\n"
     ]
    }
   ],
   "source": [
    "#Answer2\n",
    "my_dict = {'a': 1, 'b': 2, 'c': 1, 'd': 3, 'e': 2, 'f': 4}\n",
    "\n",
    "sum_values = sum(my_dict.values())\n",
    "\n",
    "print(\"sum of values of dict:\",sum_values)"
   ]
  },
  {
   "cell_type": "code",
   "execution_count": 4,
   "metadata": {},
   "outputs": [
    {
     "name": "stdout",
     "output_type": "stream",
     "text": [
      "Merged dictionary: {'a': 1, 'b': 2, 'c': 3, 'd': 4}\n"
     ]
    }
   ],
   "source": [
    "#Answer3\n",
    "\n",
    "dict1 = {'a': 1, 'b': 2}\n",
    "dict2 = {'c': 3, 'd': 4}\n",
    "\n",
    "merged_dict = dict1.copy()\n",
    "merged_dict.update(dict2)\n",
    "\n",
    "print(\"Merged dictionary:\", merged_dict)\n"
   ]
  },
  {
   "cell_type": "code",
   "execution_count": 5,
   "metadata": {},
   "outputs": [
    {
     "name": "stdout",
     "output_type": "stream",
     "text": [
      "Flat dictionary: {'a': 1, 'b': 2, 'c': 3, 'd': 4}\n"
     ]
    }
   ],
   "source": [
    "#Answer4\n",
    "\n",
    "key_values_list = [('a', 1), ('b', 2), ('c', 3), ('d', 4)]\n",
    "\n",
    "flat_dict = dict(key_values_list)\n",
    "\n",
    "print(\"Flat dictionary:\", flat_dict)\n"
   ]
  },
  {
   "cell_type": "code",
   "execution_count": 8,
   "metadata": {},
   "outputs": [
    {
     "name": "stdout",
     "output_type": "stream",
     "text": [
      "original dict{'a': 1, 'b': 2}\n",
      "updated dict :{'z': 26, 'a': 1, 'b': 2}\n"
     ]
    }
   ],
   "source": [
    "#Answer5\n",
    "dict1 = {'a': 1, 'b': 2}\n",
    "\n",
    "print(\"original dict\"+ str(dict1))\n",
    "\n",
    "new_pair={'z':26}\n",
    "\n",
    "new_pair.update(dict1)\n",
    "\n",
    "print(\"updated dict :\"+str(new_pair))\n",
    "\n"
   ]
  },
  {
   "cell_type": "code",
   "execution_count": 9,
   "metadata": {},
   "outputs": [
    {
     "name": "stdout",
     "output_type": "stream",
     "text": [
      "The characters in the string are not in order.\n"
     ]
    }
   ],
   "source": [
    "#Answer6\n",
    "\n",
    "from collections import OrderedDict\n",
    "\n",
    "# Function to check the order of characters in a string\n",
    "def check_order_of_characters(string):\n",
    "    # Create an OrderedDict to maintain the order of characters\n",
    "    ordered_dict = OrderedDict()\n",
    "\n",
    "    # Iterate over each character in the string\n",
    "    for char in string:\n",
    "        # If the character is not already present in the OrderedDict, add it\n",
    "        if char not in ordered_dict:\n",
    "            ordered_dict[char] = None\n",
    "\n",
    "    # Join the keys of the OrderedDict to get the characters in the order of appearance\n",
    "    ordered_chars = ''.join(ordered_dict.keys())\n",
    "\n",
    "    # Check if the ordered characters match the original string\n",
    "    if ordered_chars == string:\n",
    "        return True\n",
    "    else:\n",
    "        return False\n",
    "\n",
    "text = \"Hello World\"\n",
    "if check_order_of_characters(text):\n",
    "    print(\"The characters in the string are in order.\")\n",
    "else:\n",
    "    print(\"The characters in the string are not in order.\")\n",
    "\n"
   ]
  },
  {
   "cell_type": "code",
   "execution_count": 10,
   "metadata": {},
   "outputs": [
    {
     "name": "stdout",
     "output_type": "stream",
     "text": [
      "Sorted by key: {'a': 2, 'b': 3, 'c': 5, 'd': 1}\n",
      "Sorted by value: {'d': 1, 'a': 2, 'b': 3, 'c': 5}\n"
     ]
    }
   ],
   "source": [
    "#Answer7\n",
    "\n",
    "my_dict = {'c': 5, 'a': 2, 'd': 1, 'b': 3}\n",
    "\n",
    "# Sort the dictionary by key\n",
    "sorted_dict_by_key = dict(sorted(my_dict.items()))\n",
    "\n",
    "# Sort the dictionary by value\n",
    "sorted_dict_by_value = dict(sorted(my_dict.items(), key=lambda x: x[1]))\n",
    "\n",
    "# Print the dictionaries sorted by key and value\n",
    "print(\"Sorted by key:\", sorted_dict_by_key)\n",
    "print(\"Sorted by value:\", sorted_dict_by_value)\n"
   ]
  },
  {
   "cell_type": "code",
   "execution_count": null,
   "metadata": {},
   "outputs": [],
   "source": []
  }
 ],
 "metadata": {
  "kernelspec": {
   "display_name": "base",
   "language": "python",
   "name": "python3"
  },
  "language_info": {
   "codemirror_mode": {
    "name": "ipython",
    "version": 3
   },
   "file_extension": ".py",
   "mimetype": "text/x-python",
   "name": "python",
   "nbconvert_exporter": "python",
   "pygments_lexer": "ipython3",
   "version": "3.10.9"
  },
  "orig_nbformat": 4
 },
 "nbformat": 4,
 "nbformat_minor": 2
}
