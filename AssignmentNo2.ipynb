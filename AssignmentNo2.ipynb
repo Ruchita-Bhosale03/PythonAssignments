{
 "cells": [
  {
   "attachments": {},
   "cell_type": "markdown",
   "metadata": {},
   "source": [
    "Answer1 --> The 2 values of boolean data type are True and False\n",
    "           and they are written as shown below"
   ]
  },
  {
   "cell_type": "code",
   "execution_count": 2,
   "metadata": {},
   "outputs": [
    {
     "name": "stdout",
     "output_type": "stream",
     "text": [
      "True\n"
     ]
    }
   ],
   "source": [
    "number=int(input())\n",
    "if number > 5:\n",
    "    print(\"True\")\n",
    "else:\n",
    "    print(\"Flase\")"
   ]
  },
  {
   "attachments": {},
   "cell_type": "markdown",
   "metadata": {},
   "source": [
    "Answer2--> Different types of boolean operators are :\n",
    "\n",
    "AND operator: The AND operator is represented by the symbol \"&&\" or the word \"AND\". It returns true if both operands are true; otherwise, it returns false.\n",
    "\n",
    "OR operator: The OR operator is represented by the symbol \"||\" or the word \"OR\". It returns true if at least one of the operands is true; otherwise, it returns false.\n",
    "\n",
    "NOT operator: The NOT operator is represented by the symbol \"!\" or the word \"NOT\". It returns the opposite of the operand's value. If the operand is true, the NOT operator returns false, and if the operand is false, it returns true.\n"
   ]
  },
  {
   "attachments": {},
   "cell_type": "markdown",
   "metadata": {},
   "source": [
    "Answer3-->\n",
    "\n",
    "AND operator :\n",
    "\n",
    "false\tfalse\tfalse\n",
    "false\ttrue\tfalse\n",
    "true\tfalse\tfalse\n",
    "true\ttrue\ttrue\n",
    "\n",
    "OR operator :\n",
    "\n",
    "false\tfalse\tfalse\n",
    "false\ttrue\ttrue\n",
    "true\tfalse\ttrue\n",
    "true\ttrue\ttrue\n",
    "\n",
    "NOT operator :\n",
    "\n",
    "false\ttrue\n",
    "true\tfalse"
   ]
  },
  {
   "attachments": {},
   "cell_type": "markdown",
   "metadata": {},
   "source": [
    "Answer4-->\n",
    "\n",
    "(5 > 4) and (3 == 5)\n",
    "True and False is False\n",
    "\n",
    "not (5 > 4)\n",
    "False\n",
    "\n",
    "(5 > 4) or (3 == 5)\n",
    "True and False is True\n",
    "\n",
    "not ((5 > 4) or (3 == 5))\n",
    "not(True)\n",
    "False\n",
    "\n",
    "\n",
    "(True and True) and (True == False)\n",
    "True and False is False\n",
    "\n",
    "\n",
    "(not False) or (not True)\n",
    "True or False is True\n",
    "\n",
    "\n",
    "\n"
   ]
  },
  {
   "attachments": {},
   "cell_type": "markdown",
   "metadata": {},
   "source": [
    "Answer5-->\n",
    "\n",
    "<\tLess than\ta < b\n",
    ">\tGreater than\ta > b\n",
    "<=\tLess than or equal to\ta <= b\n",
    ">=\tGreater than or equal to\ta >= b\n",
    "==\tEqual to\ta = (b+c)\n",
    "!=\tNot equal to\ta != b"
   ]
  },
  {
   "attachments": {},
   "cell_type": "markdown",
   "metadata": {},
   "source": [
    "Answer6-->\n",
    "Equal to operator (==): The equal to operator is used to compare two values for equality.\n"
   ]
  },
  {
   "cell_type": "code",
   "execution_count": 3,
   "metadata": {},
   "outputs": [
    {
     "name": "stdout",
     "output_type": "stream",
     "text": [
      "x is not equal to y\n"
     ]
    }
   ],
   "source": [
    "x = 5\n",
    "y = 7\n",
    "if x == y:\n",
    "    print(\"x is equal to y\")\n",
    "else:\n",
    "    print(\"x is not equal to y\")"
   ]
  },
  {
   "attachments": {},
   "cell_type": "markdown",
   "metadata": {},
   "source": [
    "Assignment operator (=): The assignment operator is used to assign a value to a variable. \n"
   ]
  },
  {
   "cell_type": "code",
   "execution_count": 4,
   "metadata": {},
   "outputs": [],
   "source": [
    "x=3\n"
   ]
  },
  {
   "attachments": {},
   "cell_type": "markdown",
   "metadata": {},
   "source": [
    "Answer7-->"
   ]
  },
  {
   "cell_type": "code",
   "execution_count": 5,
   "metadata": {},
   "outputs": [
    {
     "name": "stdout",
     "output_type": "stream",
     "text": [
      "ham\n",
      "spam\n",
      "spam\n"
     ]
    }
   ],
   "source": [
    "spam = 0\n",
    "if spam == 10:\n",
    "    print('eggs')  # Block 1\n",
    "if spam > 5:\n",
    "    print('bacon')  # Block 2\n",
    "else:\n",
    "    print('ham')  # Block 3\n",
    "print('spam')\n",
    "print('spam')"
   ]
  },
  {
   "attachments": {},
   "cell_type": "markdown",
   "metadata": {},
   "source": [
    "Answer8-->"
   ]
  },
  {
   "cell_type": "code",
   "execution_count": 5,
   "metadata": {},
   "outputs": [
    {
     "name": "stdout",
     "output_type": "stream",
     "text": [
      "Howdy\n"
     ]
    }
   ],
   "source": [
    "spam=2\n",
    "\n",
    "if spam == 1:\n",
    "    print(\"Hello\")\n",
    "elif spam == 2:\n",
    "    print(\"Howdy\")\n",
    "else:\n",
    "    print(\"Greetings!\")"
   ]
  },
  {
   "attachments": {},
   "cell_type": "markdown",
   "metadata": {},
   "source": [
    "Answer9--> \n",
    "If a program is stuck in an endless loop and you want to interrupt its execution, you can use Ctrl + C to send an interrupt signal to the program. This signal will terminate the program and return control to the operating system."
   ]
  },
  {
   "attachments": {},
   "cell_type": "markdown",
   "metadata": {},
   "source": [
    "Answer10--> \n",
    "break statement:\n",
    "\n",
    "When encountered within a loop such as for or while loop, the break statement immediately terminates the loop.\n",
    "It causes the program execution to exit the loop and continue with the next statement following the loop.\n",
    "The loop's remaining iterations are skipped, and control is transferred to the next line of code outside the loop.\n",
    "It is commonly used when a specific condition is met, and you want to exit the loop entirely.\n",
    "\n",
    "continue statement:\n",
    "\n",
    "When encountered within a loop, the continue statement skips the rest of the current iteration and jumps to the next iteration of the loop.\n",
    "It does not terminate the loop like break, but rather moves the control to the next iteration.\n",
    "The statements below the continue statement within the loop are not executed for the current iteration.\n",
    "It is typically used when you want to skip specific iterations based on a certain condition, but continue with the next iterations."
   ]
  },
  {
   "attachments": {},
   "cell_type": "markdown",
   "metadata": {},
   "source": [
    "Answer11--> \n",
    "\n",
    "range(10): This specifies a range that starts from 0 by default and ends at 10 (exclusive). It increments by 1 by default. So, the loop will iterate over the values 0, 1, 2, 3, 4, 5, 6, 7, 8, and 9.\n",
    "\n",
    "range(0, 10): This specifies a range that starts at 0  and ends at 10 (exclusive). It also increments by 1 by default. The result is the same as range(10) the loop will iterate over the values 0, 1, 2, 3, 4, 5, 6, 7, 8, and 9.\n",
    "\n",
    "range(0, 10, 1): This specifies a range that starts at 0 , ends at 10 (exclusive), and increments by 1, the loop will iterate over the values 0, 1, 2, 3, 4, 5, 6, 7, 8, and 9"
   ]
  },
  {
   "attachments": {},
   "cell_type": "markdown",
   "metadata": {},
   "source": [
    "Answer12--> "
   ]
  },
  {
   "cell_type": "code",
   "execution_count": 6,
   "metadata": {},
   "outputs": [
    {
     "name": "stdout",
     "output_type": "stream",
     "text": [
      "1\n",
      "2\n",
      "3\n",
      "4\n",
      "5\n",
      "6\n",
      "7\n",
      "8\n",
      "9\n",
      "10\n"
     ]
    }
   ],
   "source": [
    "for i in range(1,11):\n",
    "    print(i)"
   ]
  },
  {
   "cell_type": "code",
   "execution_count": 7,
   "metadata": {},
   "outputs": [
    {
     "name": "stdout",
     "output_type": "stream",
     "text": [
      "1\n",
      "2\n",
      "3\n",
      "4\n",
      "5\n",
      "6\n",
      "7\n",
      "8\n",
      "9\n",
      "10\n"
     ]
    }
   ],
   "source": [
    "i = 1\n",
    "while i <= 10:\n",
    "    print(i)\n",
    "    i += 1"
   ]
  },
  {
   "attachments": {},
   "cell_type": "markdown",
   "metadata": {},
   "source": [
    "Answer13--> \n",
    "\n",
    "import spam\n",
    "\n",
    "spam.bacon()\n"
   ]
  },
  {
   "cell_type": "code",
   "execution_count": null,
   "metadata": {},
   "outputs": [],
   "source": []
  }
 ],
 "metadata": {
  "kernelspec": {
   "display_name": "Python 3",
   "language": "python",
   "name": "python3"
  },
  "language_info": {
   "codemirror_mode": {
    "name": "ipython",
    "version": 3
   },
   "file_extension": ".py",
   "mimetype": "text/x-python",
   "name": "python",
   "nbconvert_exporter": "python",
   "pygments_lexer": "ipython3",
   "version": "3.8.2"
  },
  "orig_nbformat": 4
 },
 "nbformat": 4,
 "nbformat_minor": 2
}
