{
 "cells": [
  {
   "attachments": {},
   "cell_type": "markdown",
   "metadata": {},
   "source": [
    "\n",
    "Python\n",
    "\n",
    "Answer 1 →  Values : hello, -87.8, 6\n",
    "            Expressions: * , - , / ,+\n",
    "\n",
    "\n",
    "Answer 2 → \n",
    "String                                         Variable\n",
    "\n",
    "1)String is any value              variable is used to store the value\n",
    "\n",
    "2)str value is represented     variable is any alphabet or group of alphabet\n",
    "in double quotes\n",
    "\n",
    "3)String x=\"anand\"; // here x is variable and type of value it stores is in string\n",
    "\n",
    "\n",
    "Answer 3 → \n",
    "1)Integer : Integer data types often represent whole numbers in programming\n",
    "\n",
    "2)Floating-point data types represent fractional numbers in programming. There are two main floating-point data types, which vary depending on the number of allowable values in the string\n",
    "\n",
    "3)Boolean data is what programmers use to show logic in code. It's typically one of two values—true or false—intended to clarify conditional statements.\n",
    "\n",
    "\n",
    "\n",
    "Answer 4 →\n",
    " A combination of operands and operators is called an expression. The expression in Python produces some value or result after being interpreted by the Python interpreter. An expression in Python is a combination of operators and operands. An example of expression can be : x = x + 1 0 x = x + 10 x=x+10.\n",
    "\n",
    "Answer 5 →\n",
    "Expressions: An expression is a combination of values, variables, operators, and function calls that produces a result. It represents a computation or a calculation. Expressions can be as simple as a single value or as complex as a combination of multiple sub-expressions. \n",
    "\n",
    "A statement is a line of code that performs an action Statements are used to control the flow of a program, make decisions, define functions, or modify variables. Unlike expressions, statements do not produce a value directly. Instead, they perform operations or change the state of the program.”Spam = 10”. This statement assigns the value 10 to the variable Spam\n",
    "\n",
    "\n",
    "\n",
    "Answer 6 →\n",
    "bacon = 22  : This line assigns the value 22 to the variable \n",
    "\n",
    "bacon + 1  : This line is an expression that adds 1 to the value of bacon but it doesn't update the value of bacon  itself. It just evaluates to the value 23.\n",
    "\n",
    "\n",
    "\n",
    "Answer7→ python code\n",
    "\n",
    "Answer8—> \n",
    "Variable names typically cannot start with a digit (0-9). They should begin with a letter  or an underscore. So,eggs are valid because it starts with a letter, while  100 is invalid because it starts with a digit.\n",
    "\n",
    "Variable names can contain letters , digits (0-9), and underscores, but they should not contain spaces or special characters such as punctuation marks.\n",
    "\n",
    "Variable names cannot be the same as reserved words or keywords in the programming language. Reserved words have special meanings and are used for specific purposes in the language syntax , in Python100 is invalid because it is a numeric value\n",
    "\n",
    "\n",
    "\n",
    "Answer9→ \n",
    "int() : This function can be used to convert a value to an integer. It takes a numeric or string argument and returns the corresponding integer representation. \n",
    "\n",
    "float() : This function can be used to convert a value to a floating-point number. It takes a numeric or string argument and returns the corresponding floating-point representation\n",
    "\n",
    "str() : his function can be used to convert a value to a string. It takes any Python object as an argument and returns its string representation\n",
    "\n"
   ]
  },
  {
   "cell_type": "code",
   "execution_count": 2,
   "metadata": {},
   "outputs": [
    {
     "data": {
      "text/plain": [
       "'spamspamspam'"
      ]
     },
     "execution_count": 2,
     "metadata": {},
     "output_type": "execute_result"
    }
   ],
   "source": [
    "#Answer 7\n",
    "\"spam\" + \"spamspam\""
   ]
  },
  {
   "cell_type": "code",
   "execution_count": 3,
   "metadata": {},
   "outputs": [
    {
     "data": {
      "text/plain": [
       "'spamspamspam'"
      ]
     },
     "execution_count": 3,
     "metadata": {},
     "output_type": "execute_result"
    }
   ],
   "source": [
    "'spam'*3"
   ]
  },
  {
   "attachments": {},
   "cell_type": "markdown",
   "metadata": {},
   "source": [
    "Answer10→ we are trying to concatenate a string ('I have eaten ') with an integer (99) without converting the integer to a string."
   ]
  },
  {
   "cell_type": "code",
   "execution_count": 4,
   "metadata": {},
   "outputs": [
    {
     "data": {
      "text/plain": [
       "'I have eaten 99 burritos.'"
      ]
     },
     "execution_count": 4,
     "metadata": {},
     "output_type": "execute_result"
    }
   ],
   "source": [
    "#here is the way to correct it\n",
    "\n",
    "'I have eaten ' + str(99) + ' burritos.'\n"
   ]
  },
  {
   "cell_type": "code",
   "execution_count": null,
   "metadata": {},
   "outputs": [],
   "source": []
  }
 ],
 "metadata": {
  "kernelspec": {
   "display_name": "Python 3",
   "language": "python",
   "name": "python3"
  },
  "language_info": {
   "codemirror_mode": {
    "name": "ipython",
    "version": 3
   },
   "file_extension": ".py",
   "mimetype": "text/x-python",
   "name": "python",
   "nbconvert_exporter": "python",
   "pygments_lexer": "ipython3",
   "version": "3.8.2"
  },
  "orig_nbformat": 4
 },
 "nbformat": 4,
 "nbformat_minor": 2
}
