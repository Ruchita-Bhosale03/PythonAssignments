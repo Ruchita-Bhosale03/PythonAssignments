{
 "cells": [
  {
   "attachments": {},
   "cell_type": "markdown",
   "metadata": {},
   "source": [
    "Answer1-->\n",
    "Functions provide several advantages in programming. Here are some of the key advantages:\n",
    "\n",
    "Reusability: Functions allow you to encapsulate a block of code that performs a specific task. This code can be reused multiple times throughout your program or in different programs. Instead of writing the same code repeatedly\n",
    "\n",
    "Modularity: Functions help in organizing code into smaller, manageable, and independent units. Each function can focus on a specific task or functionality, making the code easier to understand, maintain, and debug. Breaking down a program into smaller functions also enables collaboration among multiple developers working on different parts of the codebase.\n",
    "\n",
    "\n",
    "Abstraction: Functions provide a level of abstraction by hiding the implementation details of a particular functionality. When you call a function, you don't need to know how it works internally; you only need to know how to use it and what inputs it expects. This abstraction simplifies the complexity of the program and allows you to work at a higher level of abstraction.\n",
    "\n",
    "Readability: Well-designed functions with descriptive names can make your code more readable and self-explanatory. By giving meaningful names to functions, you can convey the purpose or action the function performs, making the overall code easier to understand.\n",
    "\n",
    "Testing and Debugging: Functions facilitate testing and debugging of code. Since functions encapsulate specific tasks, you can test each function independently, making it easier to identify and isolate issues\n",
    "\n",
    "Code maintenance: Functions promote code maintainability by allowing you to make changes or updates in a centralized manner. If you need to modify a specific functionality, you can make the changes within the corresponding function, without affecting other parts of the code.\n"
   ]
  },
  {
   "attachments": {},
   "cell_type": "markdown",
   "metadata": {},
   "source": [
    "Answer2-->\n",
    "To run the code within a function, you need to call the function.\n"
   ]
  },
  {
   "attachments": {},
   "cell_type": "markdown",
   "metadata": {},
   "source": [
    "Answer3-->\n",
    "In Python, the def statement is used to create a function. \n",
    "The def statement is followed by the function name, parentheses (), and a colon :\n",
    "\n",
    "Example: \n",
    "def function_name(parameters):\n",
    "    # Function body\n",
    "    # Statements to be executed\n",
    "\n"
   ]
  },
  {
   "attachments": {},
   "cell_type": "markdown",
   "metadata": {},
   "source": [
    "Answer-->4\n",
    "\n",
    "Function: A function is a reusable block of code that performs a specific task or calculates a result. It is defined using the def statement in Python\n",
    "\n",
    "Function Call: A function call is the actual invocation or execution of a function.When a function is called, the flow of execution transfers to the function, and the code inside the function's block is executed. \n"
   ]
  },
  {
   "attachments": {},
   "cell_type": "markdown",
   "metadata": {},
   "source": [
    "Answer-->5\n",
    "\n",
    "Global Scope: The global scope refers to the outermost level of a Python program. It is the top-level scope where variables and functions are defined outside of any function or class. Any variable or function defined in the global scope can be accessed and used throughout the program, including within functions or nested scopes.\n",
    "\n",
    "Local Scopes: Local scopes are created whenever a function is called. Each function call creates its own local scope, which is a separate scope that exists only within that function call. Variables defined within a function are considered to be in the local scope of that function. These variables are accessible only within the function and its nested blocks.\n",
    "\n"
   ]
  },
  {
   "attachments": {},
   "cell_type": "markdown",
   "metadata": {},
   "source": [
    "Answer-->6\n",
    "\n",
    "When a function call returns, the local scope associated with that function is destroyed, and the variables defined within that local scope cease to exist. This process is known as \"scope resolution\" or \"scope cleanup.\"\n",
    "\n"
   ]
  },
  {
   "attachments": {},
   "cell_type": "markdown",
   "metadata": {},
   "source": [
    "Answer-->7\n",
    "\n",
    "The concept of a return value refers to the value that a function can send back or \"return\" to the caller. When a function is executed, it may perform certain operations or calculations and produce a result. The return value allows the function to communicate and pass that result back to the code that called it.\n",
    "\n",
    "\n"
   ]
  },
  {
   "attachments": {},
   "cell_type": "markdown",
   "metadata": {},
   "source": [
    "Answer-->8\n",
    "\n",
    "\n",
    "If a function does not have a return statement or if the return statement is without any value, the function implicitly returns None.\n",
    "\n",
    "None is a special Python object that represents the absence of a value. It is commonly used to indicate that a function does not produce a meaningful result or that the result is not available."
   ]
  },
  {
   "cell_type": "code",
   "execution_count": 1,
   "metadata": {},
   "outputs": [
    {
     "name": "stdout",
     "output_type": "stream",
     "text": [
      "Hello!\n",
      "None\n"
     ]
    }
   ],
   "source": [
    "def greet():\n",
    "    print(\"Hello!\")\n",
    "\n",
    "result = greet()\n",
    "print(result) \n"
   ]
  },
  {
   "attachments": {},
   "cell_type": "markdown",
   "metadata": {},
   "source": [
    "Answer-->9\n",
    "\n",
    "To make a function variable refer to the global variable, you can use the global keyword within the function.\n"
   ]
  },
  {
   "cell_type": "code",
   "execution_count": 2,
   "metadata": {},
   "outputs": [
    {
     "name": "stdout",
     "output_type": "stream",
     "text": [
      "10\n",
      "20\n"
     ]
    }
   ],
   "source": [
    "global_var = 10\n",
    "\n",
    "def modify_global():\n",
    "    global global_var\n",
    "    global_var = 20\n",
    "\n",
    "print(global_var)  \n",
    "modify_global()\n",
    "print(global_var)  \n"
   ]
  },
  {
   "attachments": {},
   "cell_type": "markdown",
   "metadata": {},
   "source": [
    "Answer-->10\n",
    "\n",
    "The data type of None in Python is NoneType. NoneType is a built-in data type that represents the absence of a value or the lack of a specific data type."
   ]
  },
  {
   "attachments": {},
   "cell_type": "markdown",
   "metadata": {},
   "source": [
    "Answer-->11\n",
    "The sentence \"import areallyourpetsnamederic\" is not a valid Python import statement. It does not correspond to any existing Python module or package. If you attempt to execute this statement, it will result in a ModuleNotFoundError"
   ]
  },
  {
   "attachments": {},
   "cell_type": "markdown",
   "metadata": {},
   "source": [
    "Answer-->12\n",
    "This specifies that we want to access the bacon() function within the spam module.\n",
    "\n",
    "import spam\n",
    "\n",
    "spam.bacon()\n",
    "\n",
    "By using this syntax, you can invoke the bacon() function and execute its code, utilizing the functionality provided by the spam module.\n",
    "\n"
   ]
  },
  {
   "attachments": {},
   "cell_type": "markdown",
   "metadata": {},
   "source": [
    "Answer-->13\n",
    "\n",
    "\n",
    "To prevent a program from crashing when encountering an error, you can use error handling techniques to catch and handle exceptions. By handling exceptions, you can gracefully respond to errors and take appropriate actions, rather than abruptly terminating the program.\n",
    "\n"
   ]
  },
  {
   "attachments": {},
   "cell_type": "markdown",
   "metadata": {},
   "source": [
    "Answer-->14\n",
    "\n",
    "Purpose of the try clause:\n",
    "The purpose of the try clause is to specify the block of code that you want to monitor for exceptions. If an exception occurs within the try block, the execution of the block is halted, and the program jumps to the appropriate except block \n",
    "\n",
    "Purpose of the except clause:\n",
    "It specifies the block of code that should be executed when a particular exception is raised. By using the except clause, you can catch and handle specific exceptions, providing custom error handling logic or appropriate actions to take in response to the exception.\n",
    "\n",
    "\n",
    "\n"
   ]
  },
  {
   "cell_type": "code",
   "execution_count": null,
   "metadata": {},
   "outputs": [],
   "source": []
  }
 ],
 "metadata": {
  "kernelspec": {
   "display_name": "Python 3",
   "language": "python",
   "name": "python3"
  },
  "language_info": {
   "codemirror_mode": {
    "name": "ipython",
    "version": 3
   },
   "file_extension": ".py",
   "mimetype": "text/x-python",
   "name": "python",
   "nbconvert_exporter": "python",
   "pygments_lexer": "ipython3",
   "version": "3.8.2"
  },
  "orig_nbformat": 4
 },
 "nbformat": 4,
 "nbformat_minor": 2
}
