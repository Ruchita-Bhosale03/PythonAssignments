{
 "cells": [
  {
   "cell_type": "code",
   "execution_count": 3,
   "metadata": {},
   "outputs": [
    {
     "name": "stdout",
     "output_type": "stream",
     "text": [
      "sum of elements in list : 45\n"
     ]
    }
   ],
   "source": [
    "#Answer1\n",
    "l1 = [1,2,3,4,5,6,7,8,9]\n",
    "\n",
    "sum_of_ele = sum(l1)\n",
    "\n",
    "print(f\"sum of elements in list :\",sum_of_ele)"
   ]
  },
  {
   "cell_type": "code",
   "execution_count": 6,
   "metadata": {},
   "outputs": [
    {
     "name": "stdout",
     "output_type": "stream",
     "text": [
      "Multiplication of list : 1\n",
      "Multiplication of list : 2\n",
      "Multiplication of list : 6\n",
      "Multiplication of list : 24\n",
      "Multiplication of list : 120\n",
      "Multiplication of list : 720\n",
      "Multiplication of list : 5040\n",
      "Multiplication of list : 40320\n",
      "Multiplication of list : 362880\n"
     ]
    }
   ],
   "source": [
    "#Answer2\n",
    "l1 = [1,2,3,4,5,6,7,8,9]\n",
    "\n",
    "product = 1\n",
    "\n",
    "for i in l1:\n",
    "    product *= i\n",
    "\n",
    "    print(f\"Multiplication of list :\", product)"
   ]
  },
  {
   "cell_type": "code",
   "execution_count": 7,
   "metadata": {},
   "outputs": [
    {
     "data": {
      "text/plain": [
       "1"
      ]
     },
     "execution_count": 7,
     "metadata": {},
     "output_type": "execute_result"
    }
   ],
   "source": [
    "#Answer3\n",
    "l1 = [1,2,3,4,5,6,7,8,9]\n",
    "\n",
    "min(l1)\n"
   ]
  },
  {
   "cell_type": "code",
   "execution_count": 8,
   "metadata": {},
   "outputs": [
    {
     "name": "stdout",
     "output_type": "stream",
     "text": [
      "Smallest number: 5\n"
     ]
    }
   ],
   "source": [
    "numbers = [15, 10, 25, 5, 20]\n",
    "\n",
    "smallest_num = numbers[0]\n",
    "\n",
    "for num in numbers:\n",
    "    if num < smallest_num:\n",
    "        smallest_num = num\n",
    "\n",
    "print(\"Smallest number:\", smallest_num)\n",
    "\n"
   ]
  },
  {
   "cell_type": "code",
   "execution_count": 9,
   "metadata": {},
   "outputs": [
    {
     "name": "stdout",
     "output_type": "stream",
     "text": [
      "largest number 25\n"
     ]
    }
   ],
   "source": [
    "#Answer4\n",
    "numbers = [15, 10, 25, 5, 20]\n",
    "\n",
    "largest_num = numbers[0]\n",
    "\n",
    "for num in numbers:\n",
    "    if num > largest_num:\n",
    "        largest_num = num\n",
    "\n",
    "print(f\"largest number\",largest_num)"
   ]
  },
  {
   "cell_type": "code",
   "execution_count": 10,
   "metadata": {},
   "outputs": [
    {
     "name": "stdout",
     "output_type": "stream",
     "text": [
      "Second largest number: 20\n"
     ]
    }
   ],
   "source": [
    "#answer5\n",
    "\n",
    "numbers = [15, 10, 25, 5, 20]\n",
    "\n",
    "# Sort the list in ascending order\n",
    "sorted_numbers = sorted(numbers)\n",
    "\n",
    "second_largest = sorted_numbers[-2]\n",
    "\n",
    "print(\"Second largest number:\", second_largest)\n"
   ]
  },
  {
   "cell_type": "code",
   "execution_count": 12,
   "metadata": {},
   "outputs": [
    {
     "name": "stdout",
     "output_type": "stream",
     "text": [
      "Largest 3 elements: [25, 20, 15]\n"
     ]
    }
   ],
   "source": [
    "#Answer6\n",
    "numbers = [15, 10, 25, 5, 20]\n",
    "\n",
    "N = 3\n",
    "\n",
    "sorted_numbers = sorted(numbers , reverse= True)[:N] \n",
    "\n",
    "print(\"Largest\", N, \"elements:\", sorted_numbers)\n",
    "\n"
   ]
  },
  {
   "cell_type": "code",
   "execution_count": 27,
   "metadata": {},
   "outputs": [
    {
     "name": "stdout",
     "output_type": "stream",
     "text": [
      "[12, 14, 4, 6, 8, 14, 16, 20]\n"
     ]
    }
   ],
   "source": [
    "#Answer7\n",
    "\n",
    "num = [11,12,1,3,14,1,4,6,8,9,14,16,20]\n",
    "Even_num =[]\n",
    "\n",
    "for i in num:\n",
    "    if i % 2 == 0:\n",
    "        Even_num.append(i)\n",
    "print(Even_num)"
   ]
  },
  {
   "cell_type": "code",
   "execution_count": 28,
   "metadata": {},
   "outputs": [
    {
     "name": "stdout",
     "output_type": "stream",
     "text": [
      "[11, 1, 3, 1, 9]\n"
     ]
    }
   ],
   "source": [
    "#Answer8\n",
    "\n",
    "num = [11,12,1,3,14,1,4,6,8,9,14,16,20]\n",
    "odd_num=[]\n",
    "\n",
    "for i in num:\n",
    "    if i % 2 != 0:\n",
    "        odd_num.append(i)\n",
    "print(odd_num)\n",
    "\n"
   ]
  },
  {
   "cell_type": "code",
   "execution_count": 29,
   "metadata": {},
   "outputs": [
    {
     "name": "stdout",
     "output_type": "stream",
     "text": [
      "Updated list: [1, [3, 4], 5, [6]]\n"
     ]
    }
   ],
   "source": [
    "#Answer9\n",
    "my_list = [1, [], [3, 4], [], 5, [], [6]]\n",
    "\n",
    "# Remove empty lists from the list\n",
    "my_list = [elem for elem in my_list if elem]\n",
    "\n",
    "print(\"Updated list:\", my_list)\n"
   ]
  },
  {
   "cell_type": "code",
   "execution_count": 30,
   "metadata": {},
   "outputs": [
    {
     "name": "stdout",
     "output_type": "stream",
     "text": [
      "Original list: [1, 2, 3, 4, 5]\n",
      "Cloned list: [1, 2, 3, 4, 5]\n"
     ]
    }
   ],
   "source": [
    "#Answer10\n",
    "original_list = [1, 2, 3, 4, 5]\n",
    "\n",
    "# Cloning the list using the slice operator\n",
    "cloned_list = original_list[:]\n",
    "\n",
    "print(\"Original list:\", original_list)\n",
    "print(\"Cloned list:\", cloned_list)\n"
   ]
  },
  {
   "cell_type": "code",
   "execution_count": 31,
   "metadata": {},
   "outputs": [
    {
     "name": "stdout",
     "output_type": "stream",
     "text": [
      "Element Counts:\n",
      "1 : 2\n",
      "3 : 1\n",
      "4 : 4\n",
      "5 : 1\n",
      "6 : 1\n",
      "7 : 2\n",
      "8 : 1\n"
     ]
    }
   ],
   "source": [
    "#Answer11\n",
    "\n",
    "my_list = [1, 1, 3, 4, 4, 5, 4, 6, 7, 8, 4, 7]\n",
    "\n",
    "count_dict = {}\n",
    "\n",
    "# Count the occurrences of each element in the list\n",
    "for element in my_list:\n",
    "    if element in count_dict:\n",
    "        count_dict[element] += 1\n",
    "    else:\n",
    "        count_dict[element] = 1\n",
    "\n",
    "print(\"Element Counts:\")\n",
    "for element, count in count_dict.items():\n",
    "    print(element, \":\", count)\n"
   ]
  },
  {
   "cell_type": "code",
   "execution_count": null,
   "metadata": {},
   "outputs": [],
   "source": []
  }
 ],
 "metadata": {
  "kernelspec": {
   "display_name": "base",
   "language": "python",
   "name": "python3"
  },
  "language_info": {
   "codemirror_mode": {
    "name": "ipython",
    "version": 3
   },
   "file_extension": ".py",
   "mimetype": "text/x-python",
   "name": "python",
   "nbconvert_exporter": "python",
   "pygments_lexer": "ipython3",
   "version": "3.10.9"
  },
  "orig_nbformat": 4
 },
 "nbformat": 4,
 "nbformat_minor": 2
}
